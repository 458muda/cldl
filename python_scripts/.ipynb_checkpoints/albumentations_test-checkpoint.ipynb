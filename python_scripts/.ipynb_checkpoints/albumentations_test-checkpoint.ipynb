{
 "cells": [
  {
   "cell_type": "code",
   "execution_count": null,
   "id": "2efda276-0666-4db7-b3ad-84f830284b79",
   "metadata": {},
   "outputs": [],
   "source": [
    "import albumentations as A\n",
    "import cv2\n",
    "\n",
    "transform = A.Compose([\n",
    "    A.RandomCrop(width=50, height=50),\n",
    "    A.HorizontalFlip(p=0.5),\n",
    "    A.RandomBrightnessContrast(p=0.2),\n",
    "])"
   ]
  },
  {
   "cell_type": "code",
   "execution_count": null,
   "id": "b1600bb2-8f8b-4219-9c70-0fabb2433b6a",
   "metadata": {},
   "outputs": [],
   "source": [
    "import numpy as np\n",
    "import matplotlib.pyplot as plt\n",
    "img = np.random.random((256,256,3))\n",
    "msk = np.random.random((256,256))"
   ]
  },
  {
   "cell_type": "code",
   "execution_count": null,
   "id": "3d9d2d7f-9eba-474d-9351-b9524e1d1ca1",
   "metadata": {},
   "outputs": [],
   "source": [
    "msk.dtype"
   ]
  },
  {
   "cell_type": "code",
   "execution_count": null,
   "id": "53053453-0ea7-4678-a100-312eae352f65",
   "metadata": {},
   "outputs": [],
   "source": [
    "transformed = transform(image=img, mask=msk)\n",
    "transformed_image = transformed['image']\n",
    "transformed_mask = transformed['mask']"
   ]
  },
  {
   "cell_type": "code",
   "execution_count": null,
   "id": "67ad7574-210a-4633-b305-6f446a2e6048",
   "metadata": {},
   "outputs": [],
   "source": [
    "transformed_image.dtype"
   ]
  }
 ],
 "metadata": {
  "kernelspec": {
   "display_name": "Python 3 (ipykernel)",
   "language": "python",
   "name": "python3"
  },
  "language_info": {
   "codemirror_mode": {
    "name": "ipython",
    "version": 3
   },
   "file_extension": ".py",
   "mimetype": "text/x-python",
   "name": "python",
   "nbconvert_exporter": "python",
   "pygments_lexer": "ipython3",
   "version": "3.7.13"
  }
 },
 "nbformat": 4,
 "nbformat_minor": 5
}
