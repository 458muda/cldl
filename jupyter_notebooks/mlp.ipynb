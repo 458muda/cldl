{
 "cells": [
  {
   "cell_type": "code",
   "execution_count": null,
   "id": "6f5ccdbc",
   "metadata": {},
   "outputs": [],
   "source": [
    "import os\n",
    "import tensorflow\n",
    "from tensorflow.keras.datasets import mnist\n",
    "from tensorflow.keras.models import Sequential\n",
    "from tensorflow.keras.layers import Dense\n",
    "from tensorflow.keras.utils import to_categorical"
   ]
  },
  {
   "cell_type": "code",
   "execution_count": null,
   "id": "d73faad7",
   "metadata": {},
   "outputs": [],
   "source": [
    "# config options\n",
    "\n",
    "feature_vector_length = 784\n",
    "no_of_classes = 10"
   ]
  },
  {
   "cell_type": "code",
   "execution_count": null,
   "id": "0d60b6fa",
   "metadata": {},
   "outputs": [],
   "source": [
    "#load the data\n",
    "\n",
    "(x_train, y_train), (x_test, y_test) = mnist.load_data()\n"
   ]
  },
  {
   "cell_type": "code",
   "execution_count": null,
   "id": "552d4be5",
   "metadata": {},
   "outputs": [],
   "source": [
    "# plot one sample\n",
    "\n",
    "import matplotlib.pyplot as plt\n",
    "plt.imshow(x_train[0], cmap = 'Greys')\n",
    "plt.show()"
   ]
  },
  {
   "cell_type": "code",
   "execution_count": null,
   "id": "eb955b44",
   "metadata": {},
   "outputs": [],
   "source": [
    "# Reshape the data - MLPs do not understand such things as '2D'.\n",
    "# Reshape to 28 x 28 pixels = 784 features\n",
    "\n",
    "x_train = x_train.reshape(x_train.shape[0], feature_vector_length)\n",
    "x_test = x_test.reshape(x_test.shape[0], feature_vector_length)\n",
    "\n",
    "# Convert into greyscale\n",
    "\n",
    "x_train = x_train.astype('float32')\n",
    "x_test = x_test.astype('float32')\n",
    "\n",
    "x_train /= 255\n",
    "x_test /= 255"
   ]
  },
  {
   "cell_type": "code",
   "execution_count": null,
   "id": "a00e2c4a",
   "metadata": {},
   "outputs": [],
   "source": [
    "# Convert target classes to categorical ones\n",
    "\n",
    "y_train = to_categorical(y_train, no_of_classes)\n",
    "y_test = to_categorical(y_test, no_of_classes)"
   ]
  },
  {
   "cell_type": "code",
   "execution_count": null,
   "id": "176540dd",
   "metadata": {},
   "outputs": [],
   "source": [
    "# Set the input shape\n",
    "input_shape = (feature_vector_length,)\n",
    "print(f'Feature shape: {input_shape}')"
   ]
  },
  {
   "cell_type": "code",
   "execution_count": null,
   "id": "49c82693",
   "metadata": {},
   "outputs": [],
   "source": [
    "# create the model\n",
    "os.environ[\"CUDA_VISIBLE_DEVICES\"]= \"3\"\n",
    "\n",
    "model = Sequential()\n",
    "model.add(Dense(350, input_shape = input_shape, activation='relu'))\n",
    "model.add(Dense(50, activation='relu'))\n",
    "model.add(Dense(no_of_classes, activation='softmax'))\n"
   ]
  },
  {
   "cell_type": "code",
   "execution_count": null,
   "id": "2a152a87",
   "metadata": {},
   "outputs": [],
   "source": [
    "# configure the model and start training\n",
    "\n",
    "model.compile(loss='categorical_crossentropy', optimizer='adam', metrics=['accuracy'])\n",
    "\n",
    "model.fit(x_train, y_train, epochs=20, batch_size=250, verbose=1,validation_split=0.2)\n"
   ]
  },
  {
   "cell_type": "code",
   "execution_count": null,
   "id": "5a9d90cb",
   "metadata": {},
   "outputs": [],
   "source": [
    "test_results = model.evaluate(x_test, y_test, verbose=1)\n",
    "\n",
    "print(f'loss : {test_results[0]} accuracy : {test_results[1]}')"
   ]
  },
  {
   "cell_type": "code",
   "execution_count": null,
   "id": "85cc6572",
   "metadata": {},
   "outputs": [],
   "source": []
  }
 ],
 "metadata": {
  "kernelspec": {
   "display_name": "Python 3 (ipykernel)",
   "language": "python",
   "name": "python3"
  },
  "language_info": {
   "codemirror_mode": {
    "name": "ipython",
    "version": 3
   },
   "file_extension": ".py",
   "mimetype": "text/x-python",
   "name": "python",
   "nbconvert_exporter": "python",
   "pygments_lexer": "ipython3",
   "version": "3.7.13"
  }
 },
 "nbformat": 4,
 "nbformat_minor": 5
}
