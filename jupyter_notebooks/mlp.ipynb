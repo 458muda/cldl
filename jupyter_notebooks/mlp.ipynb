{
 "cells": [
  {
   "cell_type": "code",
   "execution_count": 1,
   "id": "525d2aa1-a451-4518-a572-0e30474b8284",
   "metadata": {},
   "outputs": [],
   "source": [
    "%load_ext tensorboard"
   ]
  },
  {
   "cell_type": "code",
   "execution_count": 2,
   "id": "6f5ccdbc",
   "metadata": {},
   "outputs": [],
   "source": [
    "import os\n",
    "import tensorflow\n",
    "from tensorflow.keras.datasets import mnist\n",
    "from tensorflow.keras.models import Sequential\n",
    "from tensorflow.keras.layers import Dense\n",
    "from tensorflow.keras.utils import to_categorical"
   ]
  },
  {
   "cell_type": "code",
   "execution_count": 3,
   "id": "d73faad7",
   "metadata": {},
   "outputs": [],
   "source": [
    "# config options\n",
    "\n",
    "feature_vector_length = 784\n",
    "no_of_classes = 10"
   ]
  },
  {
   "cell_type": "code",
   "execution_count": 4,
   "id": "0d60b6fa",
   "metadata": {},
   "outputs": [],
   "source": [
    "#load the data\n",
    "\n",
    "(x_train, y_train), (x_test, y_test) = mnist.load_data()\n"
   ]
  },
  {
   "cell_type": "code",
   "execution_count": 5,
   "id": "552d4be5",
   "metadata": {},
   "outputs": [
    {
     "data": {
      "image/png": "[encoded data removed]",
      "text/plain": [
       "<Figure size 432x288 with 1 Axes>"
      ]
     },
     "metadata": {
      "needs_background": "light"
     },
     "output_type": "display_data"
    }
   ],
   "source": [
    "# plot one sample\n",
    "\n",
    "import matplotlib.pyplot as plt\n",
    "plt.imshow(x_train[0], cmap = 'Greys')\n",
    "plt.show()"
   ]
  },
  {
   "cell_type": "code",
   "execution_count": 6,
   "id": "eb955b44",
   "metadata": {},
   "outputs": [],
   "source": [
    "# Reshape the data - MLPs do not understand such things as '2D'.\n",
    "# Reshape to 28 x 28 pixels = 784 features\n",
    "\n",
    "x_train = x_train.reshape(x_train.shape[0], feature_vector_length)\n",
    "x_test = x_test.reshape(x_test.shape[0], feature_vector_length)\n",
    "\n",
    "# Convert into greyscale\n",
    "\n",
    "x_train = x_train.astype('float32')\n",
    "x_test = x_test.astype('float32')\n",
    "\n",
    "x_train /= 255\n",
    "x_test /= 255"
   ]
  },
  {
   "cell_type": "code",
   "execution_count": 7,
   "id": "a00e2c4a",
   "metadata": {},
   "outputs": [],
   "source": [
    "# Convert target classes to categorical ones\n",
    "\n",
    "y_train = to_categorical(y_train, no_of_classes)\n",
    "y_test = to_categorical(y_test, no_of_classes)"
   ]
  },
  {
   "cell_type": "code",
   "execution_count": 8,
   "id": "176540dd",
   "metadata": {},
   "outputs": [
    {
     "name": "stdout",
     "output_type": "stream",
     "text": [
      "Feature shape: (784,)\n"
     ]
    }
   ],
   "source": [
    "# Set the input shape\n",
    "input_shape = (feature_vector_length,)\n",
    "print(f'Feature shape: {input_shape}')"
   ]
  },
  {
   "cell_type": "code",
   "execution_count": null,
   "id": "49c82693",
   "metadata": {},
   "outputs": [],
   "source": [
    "# create the model\n",
    "os.environ[\"CUDA_VISIBLE_DEVICES\"]= \"7\"\n",
    "\n",
    "model = Sequential()\n",
    "model.add(Dense(350, input_shape = input_shape, activation='relu'))\n",
    "model.add(Dense(50, activation='relu'))\n",
    "model.add(Dense(no_of_classes, activation='softmax'))\n"
   ]
  },
  {
   "cell_type": "code",
   "execution_count": 49,
   "id": "2a152a87",
   "metadata": {},
   "outputs": [
    {
     "name": "stderr",
     "output_type": "stream",
     "text": [
      "2022-08-26 22:13:23.755357: I tensorflow/core/profiler/lib/profiler_session.cc:159] Profiler session started.\n",
      "2022-08-26 22:13:23.756146: I tensorflow/core/profiler/internal/gpu/cupti_tracer.cc:1479] CUPTI activity buffer flushed\n"
     ]
    },
    {
     "name": "stdout",
     "output_type": "stream",
     "text": [
      "Epoch 1/10\n",
      " 41/192 [=====>........................] - ETA: 0s - loss: 4.6369e-04 - accuracy: 0.9999"
     ]
    },
    {
     "name": "stderr",
     "output_type": "stream",
     "text": [
      "2022-08-26 22:13:24.451482: I tensorflow/core/profiler/lib/profiler_session.cc:159] Profiler session started.\n",
      "2022-08-26 22:13:24.456876: I tensorflow/core/profiler/internal/gpu/cupti_tracer.cc:1479] CUPTI activity buffer flushed\n",
      "2022-08-26 22:13:24.457037: I tensorflow/core/profiler/internal/gpu/device_tracer.cc:216]  GpuTracer has collected 62 callback api events and 62 activity events.\n",
      "2022-08-26 22:13:24.461005: I tensorflow/core/profiler/rpc/client/save_profile.cc:168] Creating directory: /home/vishal/cldl/logs/abc/train/plugins/profile/2022_08_26_22_13_24\n",
      "2022-08-26 22:13:24.463220: I tensorflow/core/profiler/rpc/client/save_profile.cc:174] Dumped gzipped tool data for trace.json.gz to /home/vishal/cldl/logs/abc/train/plugins/profile/2022_08_26_22_13_24/grindhouse.trace.json.gz\n",
      "2022-08-26 22:13:24.464303: I tensorflow/core/profiler/utils/event_span.cc:288] Generation of step-events took 0.028 ms\n",
      "\n",
      "2022-08-26 22:13:24.465022: I tensorflow/python/profiler/internal/profiler_wrapper.cc:87] Creating directory: /home/vishal/cldl/logs/abc/train/plugins/profile/2022_08_26_22_13_24Dumped tool data for overview_page.pb to /home/vishal/cldl/logs/abc/train/plugins/profile/2022_08_26_22_13_24/grindhouse.overview_page.pb\n",
      "Dumped tool data for input_pipeline.pb to /home/vishal/cldl/logs/abc/train/plugins/profile/2022_08_26_22_13_24/grindhouse.input_pipeline.pb\n",
      "Dumped tool data for tensorflow_stats.pb to /home/vishal/cldl/logs/abc/train/plugins/profile/2022_08_26_22_13_24/grindhouse.tensorflow_stats.pb\n",
      "Dumped tool data for kernel_stats.pb to /home/vishal/cldl/logs/abc/train/plugins/profile/2022_08_26_22_13_24/grindhouse.kernel_stats.pb\n",
      "\n"
     ]
    },
    {
     "name": "stdout",
     "output_type": "stream",
     "text": [
      "192/192 [==============================] - 1s 5ms/step - loss: 0.0029 - accuracy: 0.9991 - val_loss: 0.1617 - val_accuracy: 0.9768 - lr: 0.0010\n",
      "Epoch 2/10\n",
      "192/192 [==============================] - 1s 4ms/step - loss: 0.0018 - accuracy: 0.9994 - val_loss: 0.1480 - val_accuracy: 0.9789 - lr: 0.0010\n",
      "Epoch 3/10\n",
      "192/192 [==============================] - 1s 4ms/step - loss: 0.0010 - accuracy: 0.9997 - val_loss: 0.1554 - val_accuracy: 0.9783 - lr: 0.0010\n",
      "Epoch 4/10\n",
      "192/192 [==============================] - 1s 5ms/step - loss: 0.0034 - accuracy: 0.9989 - val_loss: 0.1657 - val_accuracy: 0.9759 - lr: 0.0010\n",
      "Epoch 5/10\n",
      "192/192 [==============================] - 1s 5ms/step - loss: 0.0072 - accuracy: 0.9978 - val_loss: 0.1528 - val_accuracy: 0.9771 - lr: 0.0010\n",
      "Epoch 6/10\n",
      "192/192 [==============================] - 1s 4ms/step - loss: 0.0018 - accuracy: 0.9995 - val_loss: 0.1500 - val_accuracy: 0.9793 - lr: 0.0010\n",
      "Epoch 7/10\n",
      "192/192 [==============================] - 1s 4ms/step - loss: 6.7827e-04 - accuracy: 0.9998 - val_loss: 0.1356 - val_accuracy: 0.9804 - lr: 0.0010\n",
      "Epoch 8/10\n",
      "192/192 [==============================] - 1s 4ms/step - loss: 2.5726e-04 - accuracy: 0.9999 - val_loss: 0.1396 - val_accuracy: 0.9809 - lr: 0.0010\n",
      "Epoch 9/10\n",
      "192/192 [==============================] - 1s 4ms/step - loss: 4.3987e-05 - accuracy: 1.0000 - val_loss: 0.1350 - val_accuracy: 0.9814 - lr: 0.0010\n",
      "Epoch 10/10\n",
      "192/192 [==============================] - 1s 4ms/step - loss: 2.0418e-05 - accuracy: 1.0000 - val_loss: 0.1356 - val_accuracy: 0.9819 - lr: 0.0010\n"
     ]
    },
    {
     "data": {
      "text/plain": [
       "<tensorflow.python.keras.callbacks.History at 0x7f9d580943d0>"
      ]
     },
     "execution_count": 49,
     "metadata": {},
     "output_type": "execute_result"
    }
   ],
   "source": [
    "# configure the model and start training\n",
    "import datetime\n",
    "from tensorflow.keras import backend as K\n",
    "\n",
    "from tensorflow.keras.callbacks import LambdaCallback\n",
    "\n",
    "model.compile(loss='categorical_crossentropy', optimizer='adam', metrics=['accuracy'])\n",
    "\n",
    "logdir = os.path.join(\"/home/vishal/cldl/logs/abc\")\n",
    "if(not os.path.isdir(logdir)):\n",
    "    os.mkdir(logdir)\n",
    "\n",
    "\n",
    "#class LearningRateLoggingCallback(tensorflow.keras.callbacks.Callback):\n",
    "\n",
    "# def lr_schedule(epoch):\n",
    "#     lr = model.optimizer._decayed_lr('float32').numpy()\n",
    "#     tensorflow.summary.scalar('learning rate', data=lr, step=epoch)\n",
    "#     return lr\n",
    "    \n",
    "# lr_callback = tensorflow.keras.callbacks.LearningRateScheduler(lr_schedule)\n",
    "        \n",
    "# train_lr_callback = LambdaCallback( on_epoch_begin= lambda epoch,logs: print(\"LearningRate of %e\" % (K.eval(model.optimizer._decayed_lr('float32').numpy())) ))\n",
    "\n",
    "from tensorflow.keras.callbacks import TensorBoard\n",
    "\n",
    "class LRTensorBoard(TensorBoard):\n",
    "    # add other arguments to __init__ if you need\n",
    "    def __init__(self, log_dir, **kwargs):\n",
    "        super().__init__(log_dir=log_dir, **kwargs)\n",
    "\n",
    "    def on_epoch_end(self, epoch, logs=None):\n",
    "        logs = logs or {}\n",
    "        logs.update({'lr': K.eval(self.model.optimizer.lr)})\n",
    "        super().on_epoch_end(epoch, logs)\n",
    "tensorboard_callback = LRTensorBoard(logdir, histogram_freq=1)\n",
    "\n",
    "\n",
    "model.fit(x_train, y_train, epochs=10, batch_size=250, verbose=1,validation_split=0.2,\n",
    "         callbacks=[tensorboard_callback])\n"
   ]
  },
  {
   "cell_type": "code",
   "execution_count": 11,
   "id": "5a9d90cb",
   "metadata": {},
   "outputs": [
    {
     "name": "stdout",
     "output_type": "stream",
     "text": [
      "313/313 [==============================] - 1s 4ms/step - loss: 0.0636 - accuracy: 0.9815\n",
      "loss : 0.0636233389377594 accuracy : 0.9815000295639038\n"
     ]
    }
   ],
   "source": [
    "test_results = model.evaluate(x_test, y_test, verbose=1)\n",
    "\n",
    "print(f'loss : {test_results[0]} accuracy : {test_results[1]}')"
   ]
  },
  {
   "cell_type": "code",
   "execution_count": 32,
   "id": "58dd6455-2a39-46ac-bfda-349596b05eff",
   "metadata": {},
   "outputs": [
    {
     "data": {
      "text/html": [
       "\n",
       "      <iframe id=\"tensorboard-frame-123580786ee3de10\" width=\"100%\" height=\"800\" frameborder=\"0\">\n",
       "      </iframe>\n",
       "      <script>\n",
       "        (function() {\n",
       "          const frame = document.getElementById(\"tensorboard-frame-123580786ee3de10\");\n",
       "          const url = new URL(\"/\", window.location);\n",
       "          const port = 6013;\n",
       "          if (port) {\n",
       "            url.port = port;\n",
       "          }\n",
       "          frame.src = url;\n",
       "        })();\n",
       "      </script>\n",
       "    "
      ],
      "text/plain": [
       "<IPython.core.display.HTML object>"
      ]
     },
     "metadata": {},
     "output_type": "display_data"
    }
   ],
   "source": [
    "%tensorboard --logdir=/home/vishal/cldl/logs/20220826-205440/"
   ]
  },
  {
   "cell_type": "code",
   "execution_count": 11,
   "id": "66919f87-3927-4de2-870c-dd9dd44a1297",
   "metadata": {},
   "outputs": [
    {
     "name": "stdout",
     "output_type": "stream",
     "text": [
      "No known TensorBoard instances running.\n"
     ]
    }
   ],
   "source": [
    "from tensorboard import notebook\n",
    "notebook.list()"
   ]
  },
  {
   "cell_type": "code",
   "execution_count": null,
   "id": "5228c57e-e3aa-4660-af45-ac8f793017ee",
   "metadata": {},
   "outputs": [],
   "source": [
    "notebook.display(port=6006, height=1000) "
   ]
  },
  {
   "cell_type": "code",
   "execution_count": null,
   "id": "b1fcf87a-49de-47d9-ad48-ca0d01974fbc",
   "metadata": {},
   "outputs": [],
   "source": []
  }
 ],
 "metadata": {
  "kernelspec": {
   "display_name": "Python 3 (ipykernel)",
   "language": "python",
   "name": "python3"
  },
  "language_info": {
   "codemirror_mode": {
    "name": "ipython",
    "version": 3
   },
   "file_extension": ".py",
   "mimetype": "text/x-python",
   "name": "python",
   "nbconvert_exporter": "python",
   "pygments_lexer": "ipython3",
   "version": "3.7.13"
  }
 },
 "nbformat": 4,
 "nbformat_minor": 5
}
