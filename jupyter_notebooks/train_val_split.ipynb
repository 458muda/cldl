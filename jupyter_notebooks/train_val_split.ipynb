{
 "cells": [
  {
   "cell_type": "code",
   "execution_count": null,
   "id": "7086f52f",
   "metadata": {},
   "outputs": [],
   "source": [
    "import os\n",
    "import pandas as pd\n",
    "type_list = ['ecuador extensive', 'integrated mangrove', 'intensive', 'long lot extensive', 'smallholder extensive AP', 'integrated rice']\n",
    "\n",
    "data_path = '/workspace/_libs/dl_library/'\n",
    "df = pd.DataFrame(columns = [\"bands\", \"labels\"])\n",
    "bands_list = []\n",
    "labels_list = []\n",
    "\n",
    "for pond_type in type_list:\n",
    "    folder_path = os.path.join(data_path,pond_type)\n",
    "    bands_path = f'{folder_path}/pond_{pond_type}_bands'\n",
    "    labels_path = f'{folder_path}/pond_{pond_type}_label'\n",
    "    \n",
    "    foo1 = [os.path.join(bands_path, x) for x in os.listdir(bands_path)]\n",
    "    foo1.sort()\n",
    "\n",
    "    for data in foo1:\n",
    "        bands_list.append(data)\n",
    "        \n",
    "    foo2 = [os.path.join(labels_path, x) for x in os.listdir(labels_path)]\n",
    "    foo2.sort()\n",
    "\n",
    "    for data2 in foo2:\n",
    "        labels_list.append(data2)\n",
    "    \n",
    "\n",
    "df[\"bands\"] = bands_list\n",
    "df[\"labels\"] = labels_list\n",
    "\n",
    "print(df.head())\n",
    "\n",
    "\n",
    "df = df.sample(frac=1).reset_index(drop=True)"
   ]
  },
  {
   "cell_type": "code",
   "execution_count": 26,
   "id": "f81f0696-8345-4ec9-9c87-9f6d75fce8b6",
   "metadata": {},
   "outputs": [],
   "source": [
    "df.to_csv('check3.csv')"
   ]
  },
  {
   "cell_type": "code",
   "execution_count": 23,
   "id": "5b64cc1b",
   "metadata": {},
   "outputs": [],
   "source": [
    "train_df = df[:5000]\n",
    "val_df = df[5000:]"
   ]
  },
  {
   "cell_type": "code",
   "execution_count": 27,
   "id": "8f321f35-be6c-4138-bb65-b4b6ab191862",
   "metadata": {},
   "outputs": [],
   "source": [
    "train_df.to_csv('ponddata_train.csv')\n",
    "val_df.to_csv('ponddata_val.csv')"
   ]
  },
  {
   "cell_type": "code",
   "execution_count": null,
   "id": "bfabc8ea",
   "metadata": {},
   "outputs": [],
   "source": [
    "df[\"bands\"][1]"
   ]
  },
  {
   "cell_type": "code",
   "execution_count": null,
   "id": "d3af662f",
   "metadata": {},
   "outputs": [],
   "source": [
    "df[\"labels\"][1]"
   ]
  }
 ],
 "metadata": {
  "kernelspec": {
   "display_name": "Python 3 (ipykernel)",
   "language": "python",
   "name": "python3"
  },
  "language_info": {
   "codemirror_mode": {
    "name": "ipython",
    "version": 3
   },
   "file_extension": ".py",
   "mimetype": "text/x-python",
   "name": "python",
   "nbconvert_exporter": "python",
   "pygments_lexer": "ipython3",
   "version": "3.7.13"
  }
 },
 "nbformat": 4,
 "nbformat_minor": 5
}
