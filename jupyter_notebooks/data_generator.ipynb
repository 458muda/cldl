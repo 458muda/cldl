{
 "cells": [
  {
   "cell_type": "code",
   "execution_count": null,
   "metadata": {},
   "outputs": [],
   "source": [
    "from osgeo import gdal\n",
    "import numpy as np\n",
    "from tensorflow.keras.utils import Sequence\n",
    "import albumentations as A"
   ]
  },
  {
   "cell_type": "code",
   "execution_count": null,
   "metadata": {},
   "outputs": [],
   "source": [
    "def scene_folder_list(catagory, pathrow_list, data_source_folder='/workspace/_libs/dl_library'):\n",
    "    \"\"\"\n",
    "This function is designed to return the path of chips folders the user requests\n",
    "    :param catagoryr: the catagory of landcover. We have four catagories: Mangrove, Water, Wetland, and Pond\n",
    "    :param pathrow_list: a list of pathrow IDs.eg: ['128051','011060']\n",
    "    :param data_source_folder: the data source folder of chips. On the blade, it is the default path. On Sandy, it should be r'//sandy.local/projects/Moore_Automation/DL_Training_Library'\n",
    "    :return: the list of paths of chips folders.\n",
    "    \"\"\"\n",
    "    source_folder = os.path.join(data_source_folder,catagory)\n",
    "    res_folder_list = []\n",
    "    total_num = len(pathrow_list)\n",
    "    success_num = 0\n",
    "    for pathrow in pathrow_list:\n",
    "        for folder in os.listdir(source_folder):\n",
    "            if folder.endswith(pathrow):\n",
    "                res_folder_list.append(os.path.join(source_folder,folder))\n",
    "                success_num+=1\n",
    "    print(str(success_num),'scenes exist for',str(total_num),'required scenes')\n",
    "    return res_folder_list"
   ]
  },
  {
   "cell_type": "code",
   "execution_count": null,
   "metadata": {},
   "outputs": [],
   "source": [
    "def read_bands(path):\n",
    "    \"\"\"\n",
    "    This function is to read bands from a given chip\n",
    "    :param path: the file path of a chip\n",
    "    :return: numpy arrays of bands\n",
    "    \"\"\"\n",
    "    band_array = []\n",
    "    file = gdal.Open(path)\n",
    "    res_array = np.zeros((256, 256, 6))\n",
    "    for num in range(6):\n",
    "        array = np.array(file.GetRasterBand(num+1).ReadAsArray())\n",
    "        res_array[:,:,num] = array\n",
    "    band_array.append(res_array)\n",
    "    del file\n",
    "    return np.array(band_array).squeeze()"
   ]
  },
  {
   "cell_type": "code",
   "execution_count": null,
   "metadata": {},
   "outputs": [],
   "source": [
    "def read_labels(path):\n",
    "    \"\"\"\n",
    "    This function is to read labels from a given chip\n",
    "    :param path: the file path of a chip\n",
    "    :return: numpy arrays of labels\n",
    "    \"\"\"\n",
    "    label_array = []\n",
    "    file = gdal.Open(path)\n",
    "    array = np.array(file.GetRasterBand(1).ReadAsArray())\n",
    "    label_array.append(array)\n",
    "    del file\n",
    "\n",
    "    return np.array(label_array).squeeze()"
   ]
  },
  {
   "cell_type": "code",
   "execution_count": null,
   "metadata": {},
   "outputs": [],
   "source": [
    "\"\"\"\n",
    "Data Augmentation using albumentations library\n",
    "\"\"\"\n",
    "transform = A.Compose([\n",
    "    A.RandomRotate90(p=0.5),\n",
    "    A.HorizontalFlip(p=0.5),\n",
    "    A.VerticalFlip(p=0.5),\n",
    "])"
   ]
  },
  {
   "cell_type": "code",
   "execution_count": null,
   "metadata": {},
   "outputs": [],
   "source": [
    "class DataGenerator(Sequence):\n",
    "  def __init__(self, data_csv_path, batch_size,num_bands=6, transform = None):\n",
    "    _data = pd.read_csv(data_csv_path)\n",
    "    self.path_list = _data['bands'].tolist()\n",
    "    self.labels_list = _data['labels'].tolist()\n",
    "    self.batch_size = batch_size\n",
    "    self.transform = transform\n",
    "    self.num_bands = num_bands\n",
    "    \n",
    "\n",
    "  def __len__(self):\n",
    "    return int(np.floor(len(self.path_list) / self.batch_size))\n",
    "\n",
    "  def __getitem__(self,index):\n",
    "    # print('working on batch ',index)\n",
    "    batch_bands_paths = self.path_list[index*self.batch_size:(index+1)*self.batch_size]\n",
    "    batch_labels_paths = self.labels_list[index*self.batch_size:(index+1)*self.batch_size]\n",
    "    \n",
    "\n",
    "    x = np.empty((self.batch_size, 256, 256, self.num_bands), dtype=np.float32)\n",
    "    l = np.empty((self.batch_size, 256, 256), dtype=np.float32)\n",
    "\n",
    "    if self.transform is None:\n",
    "        for idx, data in enumerate(zip(batch_bands_paths,batch_labels_paths)):\n",
    "            b_path = data[0]\n",
    "            l_path = data[1]\n",
    "            x[idx] = read_bands(b_path)\n",
    "            l[idx] = read_labels(l_path)\n",
    "    else:\n",
    "        for idx, data in enumerate(zip(batch_bands_paths,batch_labels_paths)):\n",
    "            b_path = data[0]\n",
    "            l_path = data[1]\n",
    "            image = read_bands(b_path)\n",
    "            masks = read_labels(l_path)\n",
    "\n",
    "            transformed = self.transform(image=image, masks=masks)\n",
    "            x[idx] = transformed['image']\n",
    "            l[idx] = transformed['masks']\n",
    "\n",
    "\n",
    "    return x,l"
   ]
  }
 ],
 "metadata": {
  "kernelspec": {
   "display_name": "geospatial",
   "language": "python",
   "name": "python3"
  },
  "language_info": {
   "codemirror_mode": {
    "name": "ipython",
    "version": 3
   },
   "file_extension": ".py",
   "mimetype": "text/x-python",
   "name": "python",
   "nbconvert_exporter": "python",
   "pygments_lexer": "ipython3",
   "version": "3.13.1"
  }
 },
 "nbformat": 4,
 "nbformat_minor": 4
}
