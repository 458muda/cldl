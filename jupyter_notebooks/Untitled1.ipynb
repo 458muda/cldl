{
 "cells": [
  {
   "cell_type": "code",
   "execution_count": 27,
   "id": "52101be8-1115-4d12-bd43-9ed5421bfa29",
   "metadata": {},
   "outputs": [],
   "source": [
    "from PIL import Image\n",
    "import os\n",
    "from osgeo import gdal\n",
    "import numpy as np"
   ]
  },
  {
   "cell_type": "code",
   "execution_count": 39,
   "id": "7e47baf7-9e69-4fe9-a01e-11779a841134",
   "metadata": {},
   "outputs": [],
   "source": [
    "path = '/workspace/_libs/dl_library/intensive/pond_intensive_label/'\n",
    "bands_list = os.listdir(path)"
   ]
  },
  {
   "cell_type": "code",
   "execution_count": 40,
   "id": "93f6624b-ceb6-43cd-9257-31b713b8d46c",
   "metadata": {},
   "outputs": [
    {
     "name": "stdout",
     "output_type": "stream",
     "text": [
      "(256, 256)\n"
     ]
    },
    {
     "name": "stderr",
     "output_type": "stream",
     "text": [
      "ERROR 5: /workspace/_libs/dl_library/intensive/pond_intensive_label/LC08_L1TP_129055_20190304_20190309_01_T1_label_chip308.tif: GDALDataset::GetRasterBand(2) - Illegal band #\n",
      "\n"
     ]
    },
    {
     "ename": "AttributeError",
     "evalue": "'NoneType' object has no attribute 'ReadAsArray'",
     "output_type": "error",
     "traceback": [
      "\u001b[0;31m---------------------------------------------------------------------------\u001b[0m",
      "\u001b[0;31mAttributeError\u001b[0m                            Traceback (most recent call last)",
      "\u001b[0;32m<timed exec>\u001b[0m in \u001b[0;36m<module>\u001b[0;34m\u001b[0m\n",
      "\u001b[0;31mAttributeError\u001b[0m: 'NoneType' object has no attribute 'ReadAsArray'"
     ]
    }
   ],
   "source": [
    "%%time\n",
    "for i in bands_list:\n",
    "    file = gdal.Open(os.path.join(path,i))\n",
    "    res_array = np.zeros((256, 256, 6))\n",
    "    for num in range(6):\n",
    "        array = np.array(file.GetRasterBand(num+1).ReadAsArray())\n",
    "        try:\n",
    "            res_array[:,:,num] = array[:256,:256]\n",
    "        except:\n",
    "            print(i)\n",
    "        print(array.shape)\n",
    "    #print(file.RasterYSize)\n",
    "    #print(file.RasterXSize)\n",
    "    #print(res_array.shape)\n",
    "    \n",
    "    del file\n",
    "    del array\n",
    "    del res_array\n",
    "    "
   ]
  },
  {
   "cell_type": "code",
   "execution_count": null,
   "id": "6dec02fd-d9cf-47a0-99b2-031cb772bea6",
   "metadata": {},
   "outputs": [],
   "source": []
  }
 ],
 "metadata": {
  "kernelspec": {
   "display_name": "Python 3 (ipykernel)",
   "language": "python",
   "name": "python3"
  },
  "language_info": {
   "codemirror_mode": {
    "name": "ipython",
    "version": 3
   },
   "file_extension": ".py",
   "mimetype": "text/x-python",
   "name": "python",
   "nbconvert_exporter": "python",
   "pygments_lexer": "ipython3",
   "version": "3.7.13"
  }
 },
 "nbformat": 4,
 "nbformat_minor": 5
}
