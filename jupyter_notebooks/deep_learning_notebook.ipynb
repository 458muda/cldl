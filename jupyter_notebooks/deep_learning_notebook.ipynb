{
 "cells": [
  {
   "cell_type": "markdown",
   "id": "loose-liability",
   "metadata": {},
   "source": [
    "# Import"
   ]
  },
  {
   "cell_type": "code",
   "execution_count": 44,
   "id": "educational-mongolia",
   "metadata": {},
   "outputs": [],
   "source": [
    "### Import the important libraries\n",
    "# you need to import gdal, tensorflow_gpu, numpy, matplotlib, Pillow, keras, openCV, segmentation_models, sklearn\n",
    "from osgeo import gdal\n",
    "import tensorflow as tf\n",
    "import datetime\n",
    "import numpy as np\n",
    "import os\n",
    "import matplotlib.pyplot as plt\n",
    "from PIL import Image\n",
    "import random\n",
    "from keras import optimizers\n",
    "from keras.utils.np_utils import to_categorical\n",
    "from keras.utils import multi_gpu_model, plot_model\n",
    "from keras.preprocessing.image import ImageDataGenerator, load_img, img_to_array\n",
    "from keras.models import *\n",
    "from keras.layers import *\n",
    "from keras.optimizers import *\n",
    "from keras.callbacks import ModelCheckpoint, LearningRateScheduler, EarlyStopping, CSVLogger\n",
    "from keras import backend as K\n",
    "import cv2\n",
    "import sklearn\n",
    "import segmentation_models"
   ]
  },
  {
   "cell_type": "markdown",
   "id": "continuous-event",
   "metadata": {
    "heading_collapsed": true
   },
   "source": [
    "# Read Data"
   ]
  },
  {
   "cell_type": "code",
   "execution_count": 45,
   "id": "smart-compression",
   "metadata": {
    "hidden": true
   },
   "outputs": [],
   "source": [
    "def scene_folder_list(catagory, pathrow_list, data_source_folder='/workspace/_libs/DL_Training_Library'):\n",
    "    source_folder = os.path.join(data_source_folder,catagory)\n",
    "    res_folder_list = []\n",
    "    total_num = len(pathrow_list)\n",
    "    success_num = 0\n",
    "    for pathrow in pathrow_list:\n",
    "        for folder in os.listdir(source_folder):\n",
    "            if folder.endswith(pathrow):\n",
    "                res_folder_list.append(os.path.join(source_folder,folder))\n",
    "                success_num+=1\n",
    "    print(str(success_num),'scenes exist for',str(total_num),'required scenes')\n",
    "    return res_folder_list\n",
    "\n",
    "def read_scenes(scene_folder_list):\n",
    "    for i in range(len(scene_folder_list)):\n",
    "        if(i==0):\n",
    "            folder = scene_folder_list[i]\n",
    "            res_bands, res_label = read_scene_band_label(folder)\n",
    "        else:\n",
    "            folder = scene_folder_list[i]\n",
    "            scene_bands, scene_label = read_scene_band_label(folder)\n",
    "            res_bands = np.append(res_bands, scene_bands, axis=0)\n",
    "            res_label = np.append(res_label, scene_label, axis=0)\n",
    "    return res_bands, res_label\n",
    "\n",
    "\n",
    "def read_scene_band_label(scene_folder):\n",
    "    \"\"\"\n",
    "This function is to read bands and label from the\n",
    "    :param scene_folder: the folder path of a scene\n",
    "    :return: numpy arrays of bands and the label\n",
    "    \"\"\"\n",
    "    # empty list to save the band and label\n",
    "    band_array = []\n",
    "    label_array = []\n",
    "    # get the band and label folder\n",
    "    for folder in os.listdir(scene_folder):\n",
    "        if(folder.endswith('bands')):\n",
    "            scene_band_folder = os.path.join(scene_folder,folder)\n",
    "        if(folder.endswith('label')):\n",
    "            scene_label_folder = os.path.join(scene_folder,folder)\n",
    "    # save each band chips to the list\n",
    "    band_list = os.listdir(scene_band_folder)\n",
    "    label_list = os.listdir(scene_label_folder)\n",
    "    band_list.sort()\n",
    "    label_list.sort()\n",
    "    for i in band_list:\n",
    "        file = gdal.Open(os.path.join(scene_band_folder,i))\n",
    "        res_array = np.zeros((256, 256, 6))\n",
    "        for num in range(6):\n",
    "            array = np.array(file.GetRasterBand(num+1).ReadAsArray())\n",
    "            res_array[:,:,num] = array\n",
    "        band_array.append(res_array)\n",
    "        del file\n",
    "    # save each label chip to the list\n",
    "    for i in label_list:\n",
    "        file = gdal.Open(os.path.join(scene_label_folder,i))\n",
    "        array = np.array(file.GetRasterBand(1).ReadAsArray())\n",
    "        label_array.append(array)\n",
    "        del file\n",
    "    return np.array(band_array), np.array(label_array)"
   ]
  },
  {
   "cell_type": "markdown",
   "id": "coated-punishment",
   "metadata": {},
   "source": [
    "# data augmentation"
   ]
  },
  {
   "cell_type": "code",
   "execution_count": 46,
   "id": "textile-cycle",
   "metadata": {},
   "outputs": [],
   "source": [
    "# rotation for 90, 180, 270, and horizotal and vertical flip\n",
    "def clarkAug(bands, label):\n",
    "    ## rotation 1 for 90, 2 for 180, 3 for 270\n",
    "    image_rot90 = np.rot90(bands, 1, axes=(1, 2))\n",
    "    label_rot90 = np.rot90(label, 1, axes=(1, 2))\n",
    "    image_rot180 = np.rot90(bands, 2, axes=(1, 2))\n",
    "    label_rot180 = np.rot90(label, 2, axes=(1, 2))\n",
    "    image_rot270 = np.rot90(bands, 3, axes=(1, 2))\n",
    "    label_rot270 = np.rot90(label, 3, axes=(1, 2))\n",
    "    # axis=1 vertical flip, axis=2 horizontasl flip\n",
    "    image_vflip = np.flip(bands, axis=1)\n",
    "    label_vflip = np.flip(label, axis=1)\n",
    "    image_hflip = np.flip(bands, axis=2)\n",
    "    label_hflip = np.flip(label, axis=2)\n",
    "    res_bands = np.vstack([bands, image_rot90, image_rot180, image_rot270, image_vflip, image_hflip])\n",
    "    res_label = np.vstack([label, label_rot90, label_rot180, label_rot270, label_vflip, label_hflip])\n",
    "    np.random.seed(42)\n",
    "    np.random.shuffle(res_bands)\n",
    "    np.random.seed(42)\n",
    "    np.random.shuffle(res_label)\n",
    "    return res_bands, res_label"
   ]
  },
  {
   "cell_type": "markdown",
   "id": "raising-warrior",
   "metadata": {},
   "source": [
    "# model"
   ]
  },
  {
   "cell_type": "markdown",
   "id": "cultural-shooting",
   "metadata": {
    "heading_collapsed": true
   },
   "source": [
    "## Unet"
   ]
  },
  {
   "cell_type": "code",
   "execution_count": 47,
   "id": "sixth-riding",
   "metadata": {
    "hidden": true
   },
   "outputs": [],
   "source": [
    "### Import the important libraries\n",
    "from osgeo import gdal\n",
    "import tensorflow as tf\n",
    "import datetime\n",
    "import numpy as np\n",
    "import os\n",
    "import matplotlib.pyplot as plt\n",
    "from PIL import Image\n",
    "import random\n",
    "from keras import optimizers\n",
    "from keras.utils.np_utils import to_categorical\n",
    "from keras.utils import multi_gpu_model, plot_model\n",
    "from keras.preprocessing.image import ImageDataGenerator, load_img, img_to_array\n",
    "from keras.models import *\n",
    "from keras.layers import *\n",
    "from keras.optimizers import *\n",
    "from keras.callbacks import ModelCheckpoint, LearningRateScheduler\n",
    "from keras import backend as K\n",
    "os.environ[\"CUDA_DEVICE_ORDER\"]=\"PCI_BUS_ID\";"
   ]
  },
  {
   "cell_type": "code",
   "execution_count": 48,
   "id": "domestic-morris",
   "metadata": {
    "hidden": true
   },
   "outputs": [],
   "source": [
    "def binary_unet(input_height, input_width, bandNum):\n",
    "    inputs = Input((input_height,input_width, bandNum))\n",
    "    # Block one\n",
    "    # (256, 256, numBands) -> (256, 256, 64)\n",
    "    conv1 = BatchNormalization()(Conv2D(64, 3, padding='same', name='Conv1_1', kernel_initializer='he_normal')(inputs))\n",
    "    conv1 = Activation('relu')(conv1)\n",
    "    conv1 = BatchNormalization()(Conv2D(64, 3, padding='same', name='Conv1_2', kernel_initializer='he_normal')(conv1))\n",
    "    conv1 = Activation('relu')(conv1)\n",
    "    # (256, 256, 64) -> (128, 128, 64)\n",
    "    pool1 = MaxPooling2D(pool_size=(2, 2))(conv1)\n",
    "\n",
    "    # Block Two\n",
    "    # (128, 128, 64) -> (128, 128, 128)\n",
    "    conv2 = BatchNormalization()(Conv2D(128, 3, padding='same', name='Conv2_1', kernel_initializer='he_normal')(pool1))\n",
    "    conv2 = Activation('relu')(conv2)\n",
    "    conv2 = BatchNormalization()(Conv2D(128, 3, padding='same', name='Conv2_2', kernel_initializer='he_normal')(conv2))\n",
    "    conv2 = Activation('relu')(conv2)\n",
    "    # (128, 128, 128) -> (64, 64, 128)\n",
    "    pool2 = MaxPooling2D(pool_size=(2, 2))(conv2)\n",
    "\n",
    "    # Block three\n",
    "    # (64, 64, 128) -> (64, 64, 256)\n",
    "    conv3 = BatchNormalization()(Conv2D(256, 3, padding='same', name='Conv3_1', kernel_initializer='he_normal')(pool2))\n",
    "    conv3 = Activation('relu')(conv3)\n",
    "    conv3 = BatchNormalization()(Conv2D(256, 3, padding='same', name='Conv3_2', kernel_initializer='he_normal')(conv3))\n",
    "    conv3 = Activation('relu')(conv3)\n",
    "    # (64, 64, 256) -> ( 32, 32, 256)\n",
    "    pool3 = MaxPooling2D(pool_size=(2, 2))(conv3)\n",
    "\n",
    "    # Block four\n",
    "    # (32, 32, 256) -> (32, 32, 512)\n",
    "    conv4 = BatchNormalization()(Conv2D(512, 3, padding='same', name='Conv4_1', kernel_initializer='he_normal')(pool3))\n",
    "    conv4 = Activation('relu')(conv4)\n",
    "    conv4 = BatchNormalization()(Conv2D(512, 3, padding='same', name='Conv4_2', kernel_initializer='he_normal')(conv4))\n",
    "    conv4 = Activation('relu')(conv4)\n",
    "    # (32, 32, 512) -> (16, 16, 512)\n",
    "    pool4 = MaxPooling2D(pool_size=(2, 2))(conv4)\n",
    "\n",
    "    # Block five\n",
    "    # (16, 16, 512) -> (16, 16, 1024)\n",
    "    conv5 = BatchNormalization()(Conv2D(1024, 3, padding='same', name='Conv5_1', kernel_initializer='he_normal')(pool4))\n",
    "    conv5 = Activation('relu')(conv5)\n",
    "    conv5 = BatchNormalization()(Conv2D(1024, 3, padding='same', name='Conv5_2', kernel_initializer='he_normal')(conv5))\n",
    "    conv5 = Activation('relu')(conv5)\n",
    "    \n",
    "    ## Decoder \n",
    "    # Block six\n",
    "    # (16, 16, 1024) -> (32, 32, 1024) -> (32, 32, 512)\n",
    "    up6 = Conv2DTranspose(512, (4, 4), strides=(2, 2), name = 'Conv6_1', padding='same')(conv5)\n",
    "    # (32, 32, 512) -> (32, 32, 1024)\n",
    "    merge6 = concatenate([conv4,up6],axis = 3)   \n",
    "    # (32, 32, 1024) -> (32, 32, 512)\n",
    "    conv6 = (Conv2D(512, 3,  padding = 'same', name = 'Conv6_2', kernel_initializer = 'he_normal')(merge6))\n",
    "    conv6 = Activation('relu')(conv6) \n",
    "    conv6 = (Conv2D(512, 3, padding = 'same', name = 'Conv6_3', kernel_initializer = 'he_normal')(conv6))\n",
    "    conv6 = Activation('relu')(conv6) \n",
    "    \n",
    "    # Block seven \n",
    "    # (32, 32, 512) -> (64, 64, 512) -> (64, 64, 256)\n",
    "    up7 = Conv2DTranspose(256, (4, 4), strides=(2, 2), name = 'Conv7_1', padding='same')(conv6)\n",
    "    # (64, 64, 256) -> (64, 64, 512)\n",
    "    merge7 = concatenate([conv3,up7],axis = 3)\n",
    "    # (64, 64, 512) -> (64, 64, 256)\n",
    "    conv7 = (Conv2D(256, 3,  padding = 'same', name = 'Conv7_2', kernel_initializer = 'he_normal')(merge7))\n",
    "    conv7 = Activation('relu')(conv7)          \n",
    "    conv7 = (Conv2D(256, 3, padding = 'same', name = 'Conv7_3', kernel_initializer = 'he_normal')(conv7))\n",
    "    conv7 = Activation('relu')(conv7)  \n",
    "                       \n",
    "    # Block eight \n",
    "    # (64, 64, 256) -> (128, 128, 256) -> (128, 128, 128)\n",
    "    up8 = Conv2DTranspose(128, (4, 4), strides=(2, 2), name = 'Conv8_1', padding='same')(conv7)\n",
    "    # (128, 128, 128) -> (128, 128, 256)\n",
    "    merge8 = concatenate([conv2,up8],axis = 3)   \n",
    "    # (128, 128, 256) -> (128, 128, 128)\n",
    "    conv8 = (Conv2D(128, 3, padding = 'same', name = 'Conv8_2', kernel_initializer = 'he_normal')(merge8))\n",
    "    conv8 = Activation('relu')(conv8)                     \n",
    "    conv8 = (Conv2D(128, 3,  padding = 'same', name = 'Conv8_3', kernel_initializer = 'he_normal')(conv8))\n",
    "    conv8 = Activation('relu')(conv8)  \n",
    "    \n",
    "    # Block nine \n",
    "    # (128, 128, 128) -> (256, 256, 128) -> (256, 256, 64)\n",
    "    up9 = Conv2DTranspose(64, (4, 4), strides=(2, 2), name = 'Conv9_1', padding='same')(conv8)\n",
    "    # (256, 256, 64) -> (256, 256, 128)\n",
    "    merge9 = concatenate([conv1,up9],axis = 3)\n",
    "    # (256, 256, 128) -> (256, 256, 64)                  \n",
    "    conv9 = (Conv2D(64, 3, padding = 'same',name = 'Conv9_2', kernel_initializer = 'he_normal')(merge9))\n",
    "    conv9 = Activation('relu')(conv9)                   \n",
    "    conv9 = (Conv2D(64, 3, padding = 'same', name = 'Conv9_3', kernel_initializer = 'he_normal')(conv9))\n",
    "    conv9 = Activation('relu')(conv9)  \n",
    "    \n",
    "    # (256, 256, 64) -> (256, 256, 64)\n",
    "    conv10 = Conv2D(1, 1, activation='sigmoid')(conv9)\n",
    "    model = Model(inputs, outputs = conv10)\n",
    "    \n",
    "    return model"
   ]
  },
  {
   "cell_type": "markdown",
   "id": "settled-territory",
   "metadata": {},
   "source": [
    "## FCN"
   ]
  },
  {
   "cell_type": "code",
   "execution_count": 49,
   "id": "false-personality",
   "metadata": {},
   "outputs": [],
   "source": [
    "# initiate transposed convolution layer 4*4 kernel with bilinear upsampling weights\n",
    "def my_init(shape, dtype = tf.float32):\n",
    "    filter_size = 4\n",
    "    num_channels = 2\n",
    "    bilinear_kernel = np.zeros([filter_size, filter_size], dtype=np.float32)\n",
    "    scale_factor = (filter_size + 1) // 2\n",
    "    if filter_size % 2 == 1:\n",
    "        center = scale_factor - 1\n",
    "    else:\n",
    "        center = scale_factor - 0.5\n",
    "    for x in range(filter_size):\n",
    "        for y in range(filter_size):\n",
    "            bilinear_kernel[x, y] = (1 - abs(x - center) / scale_factor) * \\\n",
    "                                    (1 - abs(y - center) / scale_factor)\n",
    "    bilinear_weights = np.zeros((filter_size, filter_size, num_channels, num_channels))\n",
    "    for i in range(num_channels):\n",
    "        bilinear_weights[:, :, i, i] = bilinear_kernel\n",
    "    bilinear_init = tf.keras.initializers.Constant(bilinear_weights)\n",
    "    return bilinear_weights"
   ]
  },
  {
   "cell_type": "code",
   "execution_count": 50,
   "id": "ordinary-traveler",
   "metadata": {},
   "outputs": [],
   "source": [
    "def binary_FCN2( input_height, input_width, bandNum):\n",
    "    ## input_height and width must be devisible by 32 because maxpooling with filter size = (2,2) is operated 5 times,\n",
    "    ## which makes the input_height and width 2^5 = 32 times smaller\n",
    "    assert input_height%32 == 0\n",
    "    assert input_width%32 == 0\n",
    "    IMAGE_ORDERING =  \"channels_last\" \n",
    "\n",
    "    img_input = Input(shape=(input_height,input_width, bandNum)) ## Assume 224,224,3\n",
    "    \n",
    "    ## Block 1\n",
    "#     x = Conv2D(64, (3, 3), activation='relu', padding='same', name='block1_conv1', data_format=IMAGE_ORDERING )(img_input)\n",
    "#     x = Conv2D(64, (3, 3), activation='relu', padding='same', name='block1_conv2', data_format=IMAGE_ORDERING )(x)\n",
    "    x = Conv2D(64, (3, 3), padding='same', name='block1_conv1', data_format=IMAGE_ORDERING )(img_input)\n",
    "    x = BatchNormalization()(x)\n",
    "    x = Activation('relu')(x)\n",
    "    x = Conv2D(64, (3, 3), padding='same', name='block1_conv2', data_format=IMAGE_ORDERING )(x)\n",
    "    x = BatchNormalization()(x)\n",
    "    x = Activation('relu')(x)\n",
    "    x = MaxPooling2D((2, 2), strides=(2, 2), name='block1_pool', data_format=IMAGE_ORDERING )(x)\n",
    "    pool1 = x #120x120x64\n",
    "    \n",
    "    # Block 2\n",
    "#     x = Conv2D(128, (3, 3), activation='relu', padding='same', name='block2_conv1', data_format=IMAGE_ORDERING )(x)\n",
    "#     x = Conv2D(128, (3, 3), activation='relu', padding='same', name='block2_conv2', data_format=IMAGE_ORDERING )(x)\n",
    "    x = Conv2D(128, (3, 3), padding='same', name='block2_conv1', data_format=IMAGE_ORDERING )(x)\n",
    "    x = BatchNormalization()(x)\n",
    "    x = Activation('relu')(x)\n",
    "    x = Conv2D(128, (3, 3), padding='same', name='block2_conv2', data_format=IMAGE_ORDERING )(x)\n",
    "    x = BatchNormalization()(x)\n",
    "    x = Activation('relu')(x)\n",
    "    x = MaxPooling2D((2, 2), strides=(2, 2), name='block2_pool', data_format=IMAGE_ORDERING )(x)\n",
    "    pool2 = x #120x120x128\n",
    "\n",
    "    # Block 3\n",
    "#     x = Conv2D(256, (3, 3), activation='relu', padding='same', name='block3_conv1', data_format=IMAGE_ORDERING )(x)\n",
    "#     x = Conv2D(256, (3, 3), activation='relu', padding='same', name='block3_conv2', data_format=IMAGE_ORDERING )(x)\n",
    "#     x = Conv2D(256, (3, 3), activation='relu', padding='same', name='block3_conv3', data_format=IMAGE_ORDERING )(x)\n",
    "    x = Conv2D(256, (3, 3), padding='same', name='block3_conv1', data_format=IMAGE_ORDERING )(x)\n",
    "    x = BatchNormalization()(x)\n",
    "    x = Activation('relu')(x)\n",
    "    x = Conv2D(256, (3, 3), padding='same', name='block3_conv2', data_format=IMAGE_ORDERING )(x)\n",
    "    x = BatchNormalization()(x)\n",
    "    x = Activation('relu')(x)\n",
    "    x = Conv2D(256, (3, 3), padding='same', name='block3_conv3', data_format=IMAGE_ORDERING )(x)\n",
    "    x = BatchNormalization()(x)\n",
    "    x = Activation('relu')(x)\n",
    "    x = MaxPooling2D((2, 2), strides=(2, 2), name='block3_pool', data_format=IMAGE_ORDERING )(x)\n",
    "    pool3 = x #56x56x256\n",
    "\n",
    "    # Block 4\n",
    "#     x = Conv2D(512, (3, 3), activation='relu', padding='same', name='block4_conv1', data_format=IMAGE_ORDERING )(x)\n",
    "#     x = Conv2D(512, (3, 3), activation='relu', padding='same', name='block4_conv2', data_format=IMAGE_ORDERING )(x)\n",
    "#     x = Conv2D(512, (3, 3), activation='relu', padding='same', name='block4_conv3', data_format=IMAGE_ORDERING )(x)\n",
    "    x = Conv2D(512, (3, 3), padding='same', name='block4_conv1', data_format=IMAGE_ORDERING )(x)\n",
    "    x = BatchNormalization()(x)\n",
    "    x = Activation('relu')(x)\n",
    "    x = Conv2D(512, (3, 3), padding='same', name='block4_conv2', data_format=IMAGE_ORDERING )(x)\n",
    "    x = BatchNormalization()(x)\n",
    "    x = Activation('relu')(x)\n",
    "    x = Conv2D(512, (3, 3), padding='same', name='block4_conv3', data_format=IMAGE_ORDERING )(x)\n",
    "    x = BatchNormalization()(x)\n",
    "    x = Activation('relu')(x)\n",
    "    x = MaxPooling2D((2, 2), strides=(2, 2), name='block4_pool', data_format=IMAGE_ORDERING )(x)## (None, 14, 14, 512) \n",
    "    pool4 = x\n",
    "    #28x28x512\n",
    "    # Block 5\n",
    "#     x = Conv2D(512, (3, 3), activation='relu', padding='same', name='block5_conv1', data_format=IMAGE_ORDERING )(x)\n",
    "#     x = Conv2D(512, (3, 3), activation='relu', padding='same', name='block5_conv2', data_format=IMAGE_ORDERING )(x)\n",
    "#     x = Conv2D(512, (3, 3), activation='relu', padding='same', name='block5_conv3', data_format=IMAGE_ORDERING )(x)\n",
    "    x = Conv2D(512, (3, 3), padding='same', name='block5_conv1', data_format=IMAGE_ORDERING )(x)\n",
    "    x = BatchNormalization()(x)\n",
    "    x = Activation('relu')(x)\n",
    "    x = Conv2D(512, (3, 3), padding='same', name='block5_conv2', data_format=IMAGE_ORDERING )(x)\n",
    "    x = BatchNormalization()(x)\n",
    "    x = Activation('relu')(x)\n",
    "    x = Conv2D(512, (3, 3), padding='same', name='block5_conv3', data_format=IMAGE_ORDERING )(x)\n",
    "    x = BatchNormalization()(x)\n",
    "    x = Activation('relu')(x)\n",
    "    pool5 = MaxPooling2D((2, 2), strides=(2, 2), name='block5_pool', data_format=IMAGE_ORDERING )(x)## (None, 7, 7, 512)\n",
    "    \n",
    "    \n",
    "#     vgg  = Model(  img_input , pool5  )\n",
    "#     vgg.load_weights(VGG_Weights_path) ## loading VGG weights for the encoder parts of FCN8\n",
    "    \n",
    "    n = 4096\n",
    "    o = ( Conv2D( n , ( 7 , 7 ) , activation='relu' , padding='same', name=\"conv6\", data_format=IMAGE_ORDERING))(pool5)\n",
    "    predict0 = ( Conv2D( n , ( 1 , 1 ) , activation='relu' , padding='same', name=\"predict0\", data_format=IMAGE_ORDERING))(o) # my prefered \n",
    "    predict1 = ( Conv2D( 1 , ( 1 , 1 ) , activation='relu' , padding='same', name=\"predict1\", data_format=IMAGE_ORDERING))(predict0)\n",
    "\n",
    "#     predict1 = ( Conv2D( n , ( 1 , 1 ) , activation='relu' , padding='same', name=\"predict1\", data_format=IMAGE_ORDERING))(o)\n",
    "\n",
    "    \n",
    "    ## 4 times upsamping for pool4 layer\n",
    "#     Deconv1 = Conv2DTranspose( nClasses , kernel_size=(3,3) , padding = 'same', strides=(2,2) , use_bias=False, data_format=IMAGE_ORDERING )(predict1)\n",
    "    Deconv1 = Conv2DTranspose( 1 , kernel_size=(4,4) , padding = 'same', strides=(2,2) , use_bias=False, kernel_initializer=my_init, data_format=IMAGE_ORDERING )(predict1)\n",
    "#     Deconv1 = UpSampling2D(size=(2, 2), interpolation='bilinear', data_format=IMAGE_ORDERING)(predict1)\n",
    "\n",
    "    ## (None, 224, 224, 10)\n",
    "    ## 2 times upsampling for pool411\n",
    "    \n",
    "    predict2 = ( Conv2D( 1 , ( 1 , 1 ) , activation='relu' , padding='same', name=\"predict2\", data_format=IMAGE_ORDERING))(pool4)\n",
    "#     concat1= Concatenate(name='concat1')([predict2, Deconv1])\n",
    "#     add_1 = Conv2D( 2 , ( 1 , 1 ) , activation='relu' , padding='same', name=\"add_1\", data_format=IMAGE_ORDERING)(concat1)\n",
    "    add_1 = Add(name=\"add_1\")([predict2, Deconv1 ])\n",
    "#     Deconv2 = (Conv2DTranspose( nClasses , kernel_size=(3,3) , padding = 'same', strides=(2,2) , use_bias=False, data_format=IMAGE_ORDERING ))(add_1)\n",
    "    Deconv2 = (Conv2DTranspose( 1 , kernel_size=(4,4) , padding = 'same', strides=(2,2) , use_bias=False, kernel_initializer=my_init, data_format=IMAGE_ORDERING ))(add_1)\n",
    "    #     Deconv2 = UpSampling2D(size=(2, 2), interpolation='bilinear', data_format=IMAGE_ORDERING)(add_1)\n",
    "    \n",
    "    predict3 = ( Conv2D( 1 , ( 1 , 1 ) , activation='relu' , padding='same', name=\"predict3\", data_format=IMAGE_ORDERING))(pool3)\n",
    "#     concat2= Concatenate(name='concat2')([predict3, Deconv2])\n",
    "#     add_2 = Conv2D( 2 , ( 1 , 1 ) , activation='relu' , padding='same', name=\"add_2\", data_format=IMAGE_ORDERING)(concat2)\n",
    "    add_2 = Add(name=\"add_2\")([predict3, Deconv2 ])\n",
    "#     Deconv3 = Conv2DTranspose( nClasses , kernel_size=(3,3) , padding = 'same', strides=(2,2) , use_bias=False, data_format=IMAGE_ORDERING )(add_2)# deconv3\n",
    "    Deconv3 = Conv2DTranspose( 1 , kernel_size=(4,4) , padding = 'same', strides=(2,2) , use_bias=False, kernel_initializer=my_init, data_format=IMAGE_ORDERING )(add_2)# deconv3\n",
    "#     Deconv3 = UpSampling2D(size=(2, 2), interpolation='bilinear', data_format=IMAGE_ORDERING)(add_2)\n",
    "    \n",
    "    predict4 = ( Conv2D( 1 , ( 1 , 1 ) , activation='relu' , padding='same', name=\"predict4\", data_format=IMAGE_ORDERING))(pool2)\n",
    "#     concat3= Concatenate(name='concat3')([predict4, Deconv3])\n",
    "#     add_3 = Conv2D( 2 , ( 1 , 1 ) , activation='relu' , padding='same', name=\"add_3\", data_format=IMAGE_ORDERING)(concat3)\n",
    "    add_3 = Add(name=\"add_3\")([predict4, Deconv3 ])\n",
    "#     Deconv4 = Conv2DTranspose( nClasses , kernel_size=(3,3) , padding = 'same', strides=(2,2) , use_bias=False, data_format=IMAGE_ORDERING )(add_3)# deconv3\n",
    "    Deconv4 = Conv2DTranspose( 1 , kernel_size=(4,4) , padding = 'same', strides=(2,2) , use_bias=False, kernel_initializer=my_init, data_format=IMAGE_ORDERING )(add_3)# deconv3\n",
    "#     Deconv4 = UpSampling2D(size=(2, 2), interpolation='bilinear', data_format=IMAGE_ORDERING)(add_3)\n",
    "    \n",
    "    predict5 = ( Conv2D( 1 , ( 1 , 1 ) , activation='relu' , padding='same', name=\"predict5\", data_format=IMAGE_ORDERING))(pool1)\n",
    "    \n",
    "#     concat4= Concatenate(name='concat4')([predict5, Deconv4])\n",
    "#     add_4 = Conv2D( 2 , ( 1 , 1 ) , activation='relu' , padding='same', name=\"add_4\", data_format=IMAGE_ORDERING)(concat4)\n",
    "    add_4 = Add(name=\"add_4\")([predict5, Deconv4 ])\n",
    "    Deconv5 = Conv2DTranspose( 1 , kernel_size=(4,4) , padding = 'same', strides=(2,2) , use_bias=False, kernel_initializer=my_init, data_format=IMAGE_ORDERING )(add_4)# deconv3\n",
    "#     Deconv5 = UpSampling2D(size=(2, 2), interpolation='bilinear', data_format=IMAGE_ORDERING)(add_4)\n",
    "    \n",
    "#     o = Add(name=\"add\")([predict2, predict3, Deconv1 ])# predict2, predict3,Deconv1\n",
    "#     o = Conv2DTranspose( nClasses , kernel_size=(8,8) ,  strides=(8,8) , use_bias=False, data_format=IMAGE_ORDERING )(o)# deconv3\n",
    "    o = (Activation('sigmoid'))(Deconv5)#sigmoid\n",
    "    \n",
    "    model = Model(img_input, o)\n",
    "    \n",
    "\n",
    "    return model"
   ]
  },
  {
   "cell_type": "markdown",
   "id": "single-belle",
   "metadata": {},
   "source": [
    "# Cut and Mosaic chips"
   ]
  },
  {
   "cell_type": "code",
   "execution_count": 51,
   "id": "assumed-grove",
   "metadata": {},
   "outputs": [],
   "source": [
    "### this function is to read the data and the relevant properties\n",
    "def ReadData_geoinf(path):\n",
    "    \"\"\"\n",
    "    This function is used to read geoinformation\n",
    "\n",
    "    param path: img path\n",
    "\n",
    "    \"\"\"\n",
    "    ds = gdal.Open(path, 0)\n",
    "    if ds is None:\n",
    "        sys.exit('Could not open {0}.'.format(path))\n",
    "\n",
    "    geoTransform = ds.GetGeoTransform()\n",
    "    proj = ds.GetProjection()\n",
    "\n",
    "    XSize = ds.RasterXSize\n",
    "    YSize = ds.RasterYSize\n",
    "    MinX = geoTransform[0]\n",
    "    MaxY = geoTransform[3]\n",
    "    MaxX = MinX + geoTransform[1] * XSize\n",
    "    MinY = MaxY + geoTransform[5] * YSize\n",
    "\n",
    "    resolution = geoTransform[1]\n",
    "\n",
    "    data = ds.ReadAsArray()\n",
    "    res = {'data': data,\n",
    "           'geoTransform': geoTransform,\n",
    "           'projection': proj,\n",
    "           'minX': MinX,\n",
    "           'maxX': MaxX,\n",
    "           'minY': MinY,\n",
    "           'maxY': MaxY,\n",
    "           'Xsize': XSize,\n",
    "           'Ysize': YSize,\n",
    "           'resolution': resolution}\n",
    "    return res\n"
   ]
  },
  {
   "cell_type": "code",
   "execution_count": 52,
   "id": "massive-brief",
   "metadata": {},
   "outputs": [],
   "source": [
    "## This function is to cut np.ndarray into chips.\n",
    "def cut_array(data, row, col, row_buffer, col_buffer):\n",
    "    ### calculate the right low corner index for row and col\n",
    "    ### (row, col)\n",
    "    ### the index for numpy array will be [a, b)\n",
    "    data_row = data.shape[0]\n",
    "    data_col = data.shape[1]\n",
    "    if ((data_row - row) % (row - row_buffer) == 0):\n",
    "        row_list = list(range(row, data_row + 1, row - row_buffer))\n",
    "    else:\n",
    "        row_list = list(range(row, data_row + 1, row - row_buffer))\n",
    "        row_list.append(data_row)\n",
    "    if ((data_col - col) % (col - col_buffer) == 0):\n",
    "        col_list = list(range(col, data_col + 1, col - col_buffer))\n",
    "    else:\n",
    "        col_list = list(range(col, data_col + 1, col - col_buffer))\n",
    "        col_list.append(data_col)\n",
    "    res = []\n",
    "    for j in col_list:\n",
    "        for i in row_list:\n",
    "            res.append(data[i - row:i, j - col:j])\n",
    "\n",
    "    return np.array(res)"
   ]
  },
  {
   "cell_type": "code",
   "execution_count": 53,
   "id": "political-authority",
   "metadata": {},
   "outputs": [],
   "source": [
    "### index is from [0, row_num*col_num)\n",
    "### return (minX, maxX, minY, maxY)\n",
    "### This function is to return the coordinate range for the index\n",
    "def chip_index_finder(index, row, col, data_row, data_col, row_buffer, col_buffer):\n",
    "    if((data_row-row)%(row-row_buffer)>0):\n",
    "        row_num = int((data_row-row)/(row-row_buffer))+2\n",
    "    else:\n",
    "        row_num = int((data_row-row)/(row-row_buffer))+1\n",
    "    if((data_col-col)%(col-col_buffer)>0):\n",
    "        col_num = int((data_col-col)/(col-col_buffer))+2\n",
    "    else:\n",
    "        col_num = int((data_col-col)/(col-col_buffer))+1\n",
    "    row_index = index%row_num\n",
    "    col_index = int(index/row_num)\n",
    "    if(row_index == row_num-1):\n",
    "        row_coor = data_row\n",
    "    elif(row_index == 0):\n",
    "        row_coor = row\n",
    "    else:\n",
    "        row_coor = row+(row_index)*(row-row_buffer)\n",
    "    if(col_index == col_num-1):\n",
    "        col_coor = data_col\n",
    "    elif(col_index == 0):\n",
    "        col_coor = col\n",
    "    else:\n",
    "        col_coor = col + col_index*(col-col_buffer)\n",
    "    return (row_coor - row, row_coor, col_coor - col, col_coor)"
   ]
  },
  {
   "cell_type": "code",
   "execution_count": 54,
   "id": "sized-henry",
   "metadata": {},
   "outputs": [],
   "source": [
    "def mosaic_chips(data_array, index_list, weight_array, data_row, data_col, row, col, row_buffer, col_buffer):\n",
    "    res = np.zeros((data_row, data_col))\n",
    "    for i in range(len(index_list)):\n",
    "        chip_index = index_list[i]\n",
    "        coors = chip_index_finder(chip_index, row, col, data_row, data_col, row_buffer, col_buffer)\n",
    "        temp_array = weight_array[i,:,:]*data_array[i,:,:]\n",
    "        res[coors[0]:coors[1],coors[2]:coors[3]] = res[coors[0]:coors[1],coors[2]:coors[3]]+temp_array\n",
    "    return res"
   ]
  },
  {
   "cell_type": "code",
   "execution_count": 55,
   "id": "middle-revolution",
   "metadata": {},
   "outputs": [],
   "source": [
    "def weights_generator(weight_type, data_row, data_col, row, col, row_buffer, col_buffer):\n",
    "    if ((data_row - row) % (row - row_buffer) > 0):\n",
    "        row_num = int((data_row - row) / (row - row_buffer)) + 2\n",
    "    else:\n",
    "        row_num = int((data_row - row) / (row - row_buffer)) + 1\n",
    "    if ((data_col - col) % (col - col_buffer) > 0):\n",
    "        col_num = int((data_col - col) / (col - col_buffer)) + 2\n",
    "    else:\n",
    "        col_num = int((data_col - col) / (col - col_buffer)) + 1\n",
    "    if (weight_type == 'no_buffer'):\n",
    "        weight_array = [np.ones((row, col)) for _ in range(row_num * col_num)]\n",
    "        right_margin = np.zeros((row, col))\n",
    "        right_cut = (row if (data_row % row == 0) else data_row % row)\n",
    "        right_margin[row - right_cut:, :] = 1\n",
    "        down_margin = np.zeros((row, col))\n",
    "        down_cut = (col if (data_col % col == 0) else data_col % col)\n",
    "        down_margin[:, col - down_cut:] = 1\n",
    "        corner_margin = right_margin * down_margin\n",
    "        for i in range(row_num - 1, row_num * col_num, row_num):\n",
    "            weight_array[i] = right_margin\n",
    "        for i in range(row_num * col_num - row_num, row_num * col_num):\n",
    "            weight_array[i] = down_margin\n",
    "        weight_array[row_num * col_num - 1] = corner_margin\n",
    "        weight_array = np.array(weight_array)\n",
    "    if (weight_type == 'buffer_average'):\n",
    "        weight_array = []\n",
    "        template_zeros = np.zeros((data_row, data_col))\n",
    "        for i in range(col_num * row_num):\n",
    "            coors = chip_index_finder(i, row, col, data_row, data_col, row_buffer, col_buffer)\n",
    "            temp_array = np.ones((row, col))\n",
    "            template_zeros[coors[0]:coors[1], coors[2]:coors[3]] = template_zeros[coors[0]:coors[1],\n",
    "                                                                   coors[2]:coors[3]] + temp_array\n",
    "        template_zeros = 1.0 / template_zeros\n",
    "        for i in range(col_num * row_num):\n",
    "            coors = chip_index_finder(i, row, col, data_row, data_col, row_buffer, col_buffer)\n",
    "            weight_array.append(template_zeros[coors[0]:coors[1], coors[2]:coors[3]])\n",
    "        weight_array = np.array(weight_array)\n",
    "    if (weight_type == 'buffer_gauss_average'):\n",
    "        def gaus2d(x=0, y=0, mx=0, my=0, sx=1, sy=1):\n",
    "            return 1. / (2. * np.pi * sx * sy) * np.exp(\n",
    "                -((x - mx) ** 2. / (2. * sx ** 2.) + (y - my) ** 2. / (2. * sy ** 2.)))\n",
    "\n",
    "        weight_array = []\n",
    "        x = np.linspace(-5, 5, row)\n",
    "        y = np.linspace(-5, 5, col)\n",
    "        x, y = np.meshgrid(x, y)  # get 2D variables instead of 1D\n",
    "        template_weights = gaus2d(x, y)\n",
    "        weight_array = []\n",
    "        template_zeros = np.zeros((data_row, data_col))\n",
    "        for i in range(col_num * row_num):\n",
    "            coors = chip_index_finder(i, row, col, data_row, data_col, row_buffer, col_buffer)\n",
    "            template_zeros[coors[0]:coors[1], coors[2]:coors[3]] = template_zeros[coors[0]:coors[1],\n",
    "                                                                   coors[2]:coors[3]] + template_weights\n",
    "\n",
    "        for i in range(col_num * row_num):\n",
    "            coors = chip_index_finder(i, row, col, data_row, data_col, row_buffer, col_buffer)\n",
    "            weight_array.append(template_weights / template_zeros[coors[0]:coors[1], coors[2]:coors[3]])\n",
    "        weight_array = np.array(weight_array)\n",
    "    if (weight_type == 'buffer_linear_average'):\n",
    "        assert row_buffer == col_buffer\n",
    "        template_weights = np.ones((row, col))\n",
    "        for i in range(row_buffer):\n",
    "            pixel_int = 1. / row_buffer\n",
    "            template_weights[i, i:(col - i)] = pixel_int * i\n",
    "            template_weights[i:(row - i), i] = pixel_int * i\n",
    "            template_weights[row - i - 1, i:(col - i)] = pixel_int * i\n",
    "            template_weights[i:(row - i), col - i - 1] = pixel_int * i\n",
    "        weight_array = []\n",
    "        template_zeros = np.zeros((data_row, data_col))\n",
    "        for i in range(col_num * row_num):\n",
    "            coors = chip_index_finder(i, row, col, data_row, data_col, row_buffer, col_buffer)\n",
    "            template_zeros[coors[0]:coors[1], coors[2]:coors[3]] = template_zeros[coors[0]:coors[1],\n",
    "                                                                   coors[2]:coors[3]] + template_weights\n",
    "\n",
    "        for i in range(col_num * row_num):\n",
    "            coors = chip_index_finder(i, row, col, data_row, data_col, row_buffer, col_buffer)\n",
    "            weight_array.append(template_weights / template_zeros[coors[0]:coors[1], coors[2]:coors[3]])\n",
    "        weight_array = np.array(weight_array)\n",
    "\n",
    "    if (weight_type == 'half_buffer'):\n",
    "        half_row_buffer = int(row_buffer / 2)\n",
    "        half_col_buffer = int(col_buffer / 2)\n",
    "        template_weights = np.zeros((row, col))\n",
    "        template_weights[half_row_buffer:(row - half_row_buffer), half_col_buffer:(col - half_col_buffer)] = 1\n",
    "        weight_array = [template_weights for _ in range(row_num * col_num)]\n",
    "\n",
    "        up_border = np.zeros((row, col))\n",
    "        up_border[half_row_buffer:(row - half_row_buffer), 0:(col - half_col_buffer)] = 1\n",
    "        down_border = np.zeros((row, col))\n",
    "        down_border[half_row_buffer:(row - half_row_buffer), half_col_buffer:] = 1\n",
    "        left_border = np.zeros((row, col))\n",
    "        left_border[0:(row - half_row_buffer), half_col_buffer:(col - half_col_buffer)] = 1\n",
    "        right_border = np.zeros((row, col))\n",
    "        right_border[half_row_buffer:, half_col_buffer:(col - half_col_buffer)] = 1\n",
    "\n",
    "        up_left_border = np.zeros((row, col))\n",
    "        up_left_border[0:(row - half_row_buffer), 0:(col - half_col_buffer)] = 1\n",
    "\n",
    "        up_right_border = np.zeros((row, col))\n",
    "        up_right_border[half_row_buffer:, 0:(col - half_col_buffer)] = 1\n",
    "        down_left_border = np.zeros((row, col))\n",
    "        down_left_border[0:(row - half_row_buffer), half_col_buffer:] = 1\n",
    "        down_right_border = np.zeros((row, col))\n",
    "        down_right_border[half_row_buffer:, half_col_buffer:] = 1\n",
    "\n",
    "        for i in range(0, row_num):\n",
    "            weight_array[i] = up_border\n",
    "        for i in range(0, row_num * col_num - 1, row_num):\n",
    "            weight_array[i] = left_border\n",
    "\n",
    "        right_cut = ((row - row_buffer) if ((data_row - row) % (row - row_buffer) == 0) else (data_row - row) % (\n",
    "                    row - row_buffer))\n",
    "        down_cut = ((col - col_buffer) if ((data_col - col) % (col - col_buffer) == 0) else (data_col - col) % (\n",
    "                    col - col_buffer))\n",
    "        #         half_row_buffer:(row - half_row_buffer), half_col_buffer:(col - half_col_buffer)\n",
    "        if (right_cut == (row - row_buffer)):\n",
    "            for i in range(row_num - 1, row_num * col_num - 1, row_num):\n",
    "                weight_array[i] = right_border\n",
    "            if (down_cut == (col - col_buffer)):\n",
    "                for i in range(row_num * col_num - row_num, row_num * col_num - 1):\n",
    "                    weight_array[i] = down_border\n",
    "                weight_array[0] = up_left_border\n",
    "                weight_array[row_num - 1] = up_right_border\n",
    "                weight_array[row_num * (col_num - 1)] = down_left_border\n",
    "                weight_array[row_num * col_num - 1] = down_right_border\n",
    "            else:\n",
    "                down_margin = np.zeros((row, col))\n",
    "                down_margin[half_row_buffer:(row - half_row_buffer), col - down_cut:] = 1\n",
    "                left_down_margin = np.zeros((row, col))\n",
    "                left_down_margin[0:(row - half_row_buffer), col - down_cut:] = 1\n",
    "                right_down_margin_2 = np.zeros((row, col))\n",
    "                right_down_margin_2[half_row_buffer:(row), col - down_cut:] = 1\n",
    "                for i in range(row_num * col_num - row_num, row_num * col_num - 1):\n",
    "                    weight_array[i] = down_margin\n",
    "                    weight_array[i - row_num] = down_border\n",
    "                weight_array[0] = up_left_border\n",
    "                weight_array[row_num - 1] = up_right_border\n",
    "                weight_array[row_num * (col_num - 2)] = down_left_border\n",
    "                weight_array[row_num * (col_num - 1)] = left_down_margin\n",
    "                weight_array[row_num * col_num - row_num - 1] = down_right_border\n",
    "                weight_array[row_num * col_num - 2] = right_down_margin_2\n",
    "        else:\n",
    "            right_margin = np.zeros((row, col))\n",
    "            right_margin[row - right_cut:, half_col_buffer:(col - half_col_buffer)] = 1\n",
    "            right_up_margin = np.zeros((row, col))\n",
    "            right_up_margin[row - right_cut:, 0:(col - half_col_buffer)] = 1\n",
    "            right_down_margin = np.zeros((row, col))\n",
    "            right_down_margin[row - right_cut:, half_col_buffer:col] = 1\n",
    "            for i in range(row_num - 1, row_num * col_num - 1, row_num):\n",
    "                weight_array[i] = right_margin\n",
    "                weight_array[i - 1] = right_border\n",
    "\n",
    "            if (down_cut == (col - col_buffer)):\n",
    "                for i in range(row_num * col_num - row_num, row_num * col_num - 1):\n",
    "                    weight_array[i] = down_border\n",
    "                weight_array[0] = up_left_border\n",
    "                weight_array[row_num - 2] = up_right_border\n",
    "                weight_array[row_num - 1] = right_up_margin\n",
    "                weight_array[row_num * col_num - row_num - 1] = right_down_margin\n",
    "                weight_array[row_num * (col_num - 1)] = down_left_border\n",
    "                weight_array[row_num * col_num - 2] = down_right_border\n",
    "            else:\n",
    "                down_margin = np.zeros((row, col))\n",
    "                down_margin[half_row_buffer:(row - half_row_buffer), col - down_cut:] = 1\n",
    "                left_down_margin = np.zeros((row, col))\n",
    "                left_down_margin[0:(row - half_row_buffer), col - down_cut:] = 1\n",
    "                right_down_margin_2 = np.zeros((row, col))\n",
    "                right_down_margin_2[half_row_buffer:(row), col - down_cut:] = 1\n",
    "                for i in range(row_num * col_num - row_num, row_num * col_num - 1):\n",
    "                    weight_array[i] = down_margin\n",
    "                    weight_array[i - row_num] = down_border\n",
    "                weight_array[0] = up_left_border\n",
    "                weight_array[row_num - 2] = up_right_border\n",
    "                weight_array[row_num - 1] = right_up_margin\n",
    "                weight_array[row_num * col_num - row_num - 1] = right_down_margin\n",
    "                weight_array[row_num * (col_num - 2)] = down_left_border\n",
    "                weight_array[row_num * (col_num - 1)] = left_down_margin\n",
    "                weight_array[row_num * col_num - row_num - 2] = down_right_border\n",
    "                corner_margin = np.zeros((row, col))\n",
    "                corner_margin[row - right_cut:, col - down_cut:] = 1\n",
    "                weight_array[row_num * col_num - 2] = right_down_margin_2\n",
    "                weight_array[row_num * col_num - 1] = corner_margin\n",
    "                print(corner_margin)\n",
    "        weight_array = np.array(weight_array)\n",
    "\n",
    "    return weight_array"
   ]
  },
  {
   "cell_type": "markdown",
   "id": "wound-commander",
   "metadata": {
    "heading_collapsed": true
   },
   "source": [
    "# helper"
   ]
  },
  {
   "cell_type": "code",
   "execution_count": 56,
   "id": "august-sleeping",
   "metadata": {
    "hidden": true
   },
   "outputs": [],
   "source": [
    "## output the data in the same format\n",
    "def output_same(data, template_file_name, output_name, gdal_type):\n",
    "    gtif = gdal.Open(template_file_name)\n",
    "    ## get the first band in the file\n",
    "    band = gtif.GetRasterBand(1)\n",
    "    ## get the rows and cols of the input file\n",
    "    rows = gtif.RasterYSize\n",
    "    cols = gtif.RasterXSize\n",
    "    output_format = output_name.split('.')[-1].upper()\n",
    "    if (output_format == 'TIF'):\n",
    "        output_format = 'GTIFF'\n",
    "    elif (output_format == 'RST'):\n",
    "        output_format = 'rst'\n",
    "    driver = gdal.GetDriverByName(output_format)\n",
    "    outDs = driver.Create(output_name, cols, rows, 1, gdal_type)\n",
    "    outBand = outDs.GetRasterBand(1)\n",
    "    outBand.WriteArray(data)\n",
    "    # georeference the image and set the projection\n",
    "    outDs.SetGeoTransform(gtif.GetGeoTransform())\n",
    "    outDs.SetProjection(gtif.GetProjection())\n",
    "    outDs.FlushCache()\n",
    "    outBand.SetNoDataValue(-99)\n",
    "    ## need to release the driver\n",
    "    del outDs"
   ]
  },
  {
   "cell_type": "markdown",
   "id": "consistent-american",
   "metadata": {},
   "source": [
    "# main function"
   ]
  },
  {
   "cell_type": "markdown",
   "id": "intermediate-savings",
   "metadata": {},
   "source": [
    "## Configuration"
   ]
  },
  {
   "cell_type": "code",
   "execution_count": 57,
   "id": "undefined-heating",
   "metadata": {},
   "outputs": [],
   "source": [
    "## set the GPU number you want to use\n",
    "os.environ[\"CUDA_VISIBLE_DEVICES\"]= \"4\"\n",
    "project_name = 'test'\n",
    "res_folder = '/home/zhen/PycharmProjects/DLrepo/results/'\n",
    "project_folder = os.path.join(res_folder,project_name)\n",
    "batch_size = 16\n",
    "if(not os.path.isdir(project_folder)):\n",
    "    os.mkdir(project_folder)"
   ]
  },
  {
   "cell_type": "markdown",
   "id": "empty-flashing",
   "metadata": {},
   "source": [
    "## Read data"
   ]
  },
  {
   "cell_type": "code",
   "execution_count": 58,
   "id": "sized-archives",
   "metadata": {},
   "outputs": [],
   "source": [
    "bands, label = read_scenes(['/workspace/_libs/pond_extensive'])"
   ]
  },
  {
   "cell_type": "code",
   "execution_count": 59,
   "id": "artificial-twins",
   "metadata": {},
   "outputs": [],
   "source": [
    "from sklearn.model_selection import train_test_split\n",
    "x_train, x_val, y_train, y_val = train_test_split(bands, label, test_size=0.2, random_state=42)"
   ]
  },
  {
   "cell_type": "markdown",
   "id": "entertaining-medicaid",
   "metadata": {},
   "source": [
    "## offline augmentation"
   ]
  },
  {
   "cell_type": "code",
   "execution_count": 60,
   "id": "decimal-basis",
   "metadata": {},
   "outputs": [],
   "source": [
    "x_train, y_train = clarkAug(x_train, y_train)\n",
    "x_val, y_val = clarkAug(x_val, y_val)\n",
    "y_train = np.expand_dims(y_train, axis = -1)\n",
    "y_val = np.expand_dims(y_val, axis = -1)"
   ]
  },
  {
   "cell_type": "markdown",
   "id": "following-madness",
   "metadata": {},
   "source": [
    "## model training"
   ]
  },
  {
   "cell_type": "code",
   "execution_count": 61,
   "id": "taken-polymer",
   "metadata": {},
   "outputs": [],
   "source": [
    "model_1 = binary_unet(256,256,6)"
   ]
  },
  {
   "cell_type": "code",
   "execution_count": 62,
   "id": "equivalent-venice",
   "metadata": {},
   "outputs": [
    {
     "name": "stdout",
     "output_type": "stream",
     "text": [
      "Train on 2232 samples, validate on 564 samples\n",
      "Epoch 1/10\n",
      "2232/2232 [==============================] - 114s 51ms/step - loss: 0.0181 - accuracy: 0.9211 - iou_score: 0.3876 - val_loss: 0.2631 - val_accuracy: 0.8212 - val_iou_score: 0.0105\n",
      "Epoch 2/10\n",
      "2232/2232 [==============================] - 100s 45ms/step - loss: 0.0107 - accuracy: 0.9564 - iou_score: 0.4902 - val_loss: 0.1756 - val_accuracy: 0.8211 - val_iou_score: 0.0310\n",
      "Epoch 3/10\n",
      "2232/2232 [==============================] - 101s 45ms/step - loss: 0.0094 - accuracy: 0.9617 - iou_score: 0.5192 - val_loss: 0.0200 - val_accuracy: 0.9263 - val_iou_score: 0.4392\n",
      "Epoch 4/10\n",
      "2232/2232 [==============================] - 101s 45ms/step - loss: 0.0079 - accuracy: 0.9673 - iou_score: 0.5654 - val_loss: 0.0161 - val_accuracy: 0.9597 - val_iou_score: 0.5502\n",
      "Epoch 5/10\n",
      "2232/2232 [==============================] - 100s 45ms/step - loss: 0.0083 - accuracy: 0.9664 - iou_score: 0.5505 - val_loss: 0.0066 - val_accuracy: 0.9778 - val_iou_score: 0.6272\n",
      "Epoch 6/10\n",
      "2232/2232 [==============================] - 101s 45ms/step - loss: 0.0076 - accuracy: 0.9692 - iou_score: 0.5758 - val_loss: 0.0078 - val_accuracy: 0.9628 - val_iou_score: 0.5766\n",
      "Epoch 7/10\n",
      "2232/2232 [==============================] - 100s 45ms/step - loss: 0.0065 - accuracy: 0.9732 - iou_score: 0.6128 - val_loss: 0.0054 - val_accuracy: 0.9781 - val_iou_score: 0.6421\n",
      "Epoch 8/10\n",
      "2232/2232 [==============================] - 100s 45ms/step - loss: 0.0060 - accuracy: 0.9752 - iou_score: 0.6377 - val_loss: 0.0057 - val_accuracy: 0.9740 - val_iou_score: 0.6441\n",
      "Epoch 9/10\n",
      "2232/2232 [==============================] - 100s 45ms/step - loss: 0.0067 - accuracy: 0.9728 - iou_score: 0.6154 - val_loss: 0.0052 - val_accuracy: 0.9777 - val_iou_score: 0.6578\n",
      "Epoch 10/10\n",
      "2232/2232 [==============================] - 100s 45ms/step - loss: 0.0057 - accuracy: 0.9760 - iou_score: 0.6513 - val_loss: 0.0054 - val_accuracy: 0.9751 - val_iou_score: 0.6802\n"
     ]
    }
   ],
   "source": [
    "# model_1 = FCN2(2, 256, 256, 6)\n",
    "loss = segmentation_models.losses.BinaryFocalLoss()\n",
    "# sgd = optimizers.SGD(lr=1E-4, decay=5**(-4), momentum=0.9, nesterov=True)\n",
    "adam_opt = optimizers.Adam(lr=1E-4)\n",
    "model_1.compile(loss=loss, # 'weighted_categorical_crossentropy' \n",
    "              optimizer = adam_opt,\n",
    "              metrics=['accuracy',segmentation_models.metrics.IOUScore()])  \n",
    "\n",
    "hist1 = model_1.fit(x_train,y_train,\n",
    "                  validation_data=(x_val,y_val),\n",
    "#                   class_weight = 'balanced',       # 10/20/2020 class_weights\n",
    "                  batch_size= batch_size , \n",
    "                  epochs= 10,verbose=1,\n",
    "                  ) "
   ]
  },
  {
   "cell_type": "code",
   "execution_count": 63,
   "id": "overall-receiver",
   "metadata": {},
   "outputs": [
    {
     "data": {
      "image/png": "[encoded data removed]",
      "text/plain": [
       "<Figure size 432x288 with 1 Axes>"
      ]
     },
     "metadata": {
      "needs_background": "light"
     },
     "output_type": "display_data"
    }
   ],
   "source": [
    "for key in ['loss', 'val_loss']:\n",
    "    plt.plot(hist1.history[key],label=key)\n",
    "plt.legend()\n",
    "plt.savefig(os.path.join(project_folder,'loss.png'))\n",
    "plt.show()"
   ]
  },
  {
   "cell_type": "code",
   "execution_count": 64,
   "id": "experienced-prior",
   "metadata": {},
   "outputs": [
    {
     "data": {
      "image/png": "[encoded data removed]",
      "text/plain": [
       "<Figure size 432x288 with 1 Axes>"
      ]
     },
     "metadata": {
      "needs_background": "light"
     },
     "output_type": "display_data"
    }
   ],
   "source": [
    "for key in ['accuracy', 'val_accuracy']:\n",
    "    plt.plot(hist1.history[key],label=key)\n",
    "plt.legend()\n",
    "plt.savefig(os.path.join(project_folder,'accuracy.png'))\n",
    "plt.show()"
   ]
  },
  {
   "cell_type": "code",
   "execution_count": 65,
   "id": "independent-width",
   "metadata": {},
   "outputs": [
    {
     "data": {
      "image/png": "[encoded data removed]",
      "text/plain": [
       "<Figure size 432x288 with 1 Axes>"
      ]
     },
     "metadata": {
      "needs_background": "light"
     },
     "output_type": "display_data"
    }
   ],
   "source": [
    "for key in ['iou_score', 'val_iou_score']:\n",
    "    plt.plot(hist1.history[key],label=key)\n",
    "plt.legend()\n",
    "plt.savefig(os.path.join(project_folder,'IoU.png'))\n",
    "plt.show()"
   ]
  },
  {
   "cell_type": "code",
   "execution_count": 66,
   "id": "former-imagination",
   "metadata": {},
   "outputs": [],
   "source": [
    "# save model\n",
    "model_path = os.path.join(project_folder, project_name+\".h5\")\n",
    "model_1.save(model_path)"
   ]
  },
  {
   "cell_type": "code",
   "execution_count": 90,
   "id": "square-parking",
   "metadata": {},
   "outputs": [
    {
     "name": "stdout",
     "output_type": "stream",
     "text": [
      "the number is 188\n"
     ]
    },
    {
     "data": {
      "text/plain": [
       "<matplotlib.image.AxesImage at 0x7f5dc87e2f98>"
      ]
     },
     "execution_count": 90,
     "metadata": {},
     "output_type": "execute_result"
    },
    {
     "data": {
      "image/png": "[encoded data removed]",
      "text/plain": [
       "<Figure size 800x640 with 3 Axes>"
      ]
     },
     "metadata": {
      "needs_background": "light"
     },
     "output_type": "display_data"
    }
   ],
   "source": [
    "idx_num = random.randrange(len(x_val))\n",
    "plt.figure(figsize=(10, 8), dpi=80)\n",
    "print(\"the number is {0}\".format(idx_num))\n",
    "plt.subplot(131)\n",
    "plt.title('bands')\n",
    "plt.imshow(x_val[idx_num,:,:,0:3])\n",
    "plt.subplot(132)\n",
    "plt.title('predict')\n",
    "plt.imshow(model_1.predict((np.expand_dims(x_val[idx_num,:,:,:],axis=0))).reshape((256,256,1)))\n",
    "# plt.imshow(np.argmax(model_1.predict((np.expand_dims(x_val[idx_num,:,:,:],axis=0))),axis=-1).reshape((256,256,1)))\n",
    "plt.subplot(133)\n",
    "plt.title('label')\n",
    "plt.imshow((y_val[idx_num,:,:]>0.5).reshape(256,256,1))"
   ]
  },
  {
   "cell_type": "markdown",
   "id": "olive-analysis",
   "metadata": {},
   "source": [
    "## predict"
   ]
  },
  {
   "cell_type": "code",
   "execution_count": 68,
   "id": "moderate-campus",
   "metadata": {},
   "outputs": [],
   "source": [
    "# when you have customized initializer, set custom objects before load the model (https://github.com/keras-team/keras/issues/3867)\n",
    "from keras.utils import CustomObjectScope, get_custom_objects\n",
    "class CustomInitializer:\n",
    "    def __call__(self, shape, dtype=None):\n",
    "        return my_init(shape, dtype=dtype)\n",
    "\n",
    "get_custom_objects().update({'my_init': CustomInitializer})\n",
    "get_custom_objects().update({\"binary_focal_loss\": segmentation_models.losses.BinaryFocalLoss()})\n",
    "get_custom_objects().update({\"iou_score\": segmentation_models.metrics.IOUScore()})"
   ]
  },
  {
   "cell_type": "code",
   "execution_count": 69,
   "id": "impaired-football",
   "metadata": {},
   "outputs": [],
   "source": [
    "model_final = load_model(model_path)"
   ]
  },
  {
   "cell_type": "code",
   "execution_count": 79,
   "id": "attractive-syntax",
   "metadata": {},
   "outputs": [],
   "source": [
    "scene_dict = {'116060':'/workspace/_libs/116060_preprocessed'}"
   ]
  },
  {
   "cell_type": "code",
   "execution_count": 71,
   "id": "specialized-novel",
   "metadata": {},
   "outputs": [],
   "source": [
    "predict_ID = '116060'\n",
    "sourcefolder = scene_dict[predict_ID]\n",
    "folderlist = []\n",
    "## get bands 2~7\n",
    "for i in os.listdir(sourcefolder):\n",
    "    if(i.endswith('rst')):\n",
    "        folderlist.append(os.path.join(sourcefolder,i))\n",
    "folderlist.sort()\n",
    "folderlist\n",
    "predict_data_source = []\n",
    "for i in folderlist:\n",
    "    ds = ReadData_geoinf(i)\n",
    "    predict_data_source.append(ds['data'])\n",
    "predict_data_source = np.stack(predict_data_source,axis=-1)"
   ]
  },
  {
   "cell_type": "code",
   "execution_count": 72,
   "id": "latin-comment",
   "metadata": {},
   "outputs": [],
   "source": [
    "predict_chips = cut_array(predict_data_source, 256, 256, 128, 128)"
   ]
  },
  {
   "cell_type": "code",
   "execution_count": 73,
   "id": "numeric-terrorism",
   "metadata": {},
   "outputs": [],
   "source": [
    "predict_label = model_final.predict(predict_chips)"
   ]
  },
  {
   "cell_type": "code",
   "execution_count": 74,
   "id": "missing-flashing",
   "metadata": {},
   "outputs": [
    {
     "name": "stdout",
     "output_type": "stream",
     "text": [
      "[[0. 0. 0. ... 0. 0. 0.]\n",
      " [0. 0. 0. ... 0. 0. 0.]\n",
      " [0. 0. 0. ... 0. 0. 0.]\n",
      " ...\n",
      " [0. 0. 0. ... 1. 1. 1.]\n",
      " [0. 0. 0. ... 1. 1. 1.]\n",
      " [0. 0. 0. ... 1. 1. 1.]]\n"
     ]
    }
   ],
   "source": [
    "mosaic_weights = weights_generator('half_buffer', ds['Ysize'], ds['Xsize'], 256, 256, 128, 128)"
   ]
  },
  {
   "cell_type": "code",
   "execution_count": 75,
   "id": "incomplete-toner",
   "metadata": {},
   "outputs": [],
   "source": [
    "mosaic_res =  mosaic_chips(predict_label[:,:,:,0], range(len(predict_label)),mosaic_weights, ds['Ysize'], ds['Xsize'], 256, 256, 128, 128)"
   ]
  },
  {
   "cell_type": "code",
   "execution_count": 76,
   "id": "cleared-nature",
   "metadata": {},
   "outputs": [],
   "source": [
    "prediction_path = os.path.join(project_folder, project_name+'_prob_'+predict_ID+'.rst')\n",
    "output_same(mosaic_res, os.path.join(sourcefolder,folderlist[0]), prediction_path, gdal.GDT_Float32)"
   ]
  }
 ],
 "metadata": {
  "kernelspec": {
   "display_name": "Python 3 (ipykernel)",
   "language": "python",
   "name": "python3"
  },
  "language_info": {
   "codemirror_mode": {
    "name": "ipython",
    "version": 3
   },
   "file_extension": ".py",
   "mimetype": "text/x-python",
   "name": "python",
   "nbconvert_exporter": "python",
   "pygments_lexer": "ipython3",
   "version": "3.7.13"
  }
 },
 "nbformat": 4,
 "nbformat_minor": 5
}
