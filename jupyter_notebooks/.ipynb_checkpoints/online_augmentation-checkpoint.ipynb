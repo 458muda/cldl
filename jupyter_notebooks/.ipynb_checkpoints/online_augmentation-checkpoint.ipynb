{
 "cells": [
  {
   "cell_type": "code",
   "execution_count": 1,
   "metadata": {},
   "outputs": [],
   "source": [
    "import tensorflow as tf\n",
    "import os\n",
    "from osgeo import gdal\n",
    "os.environ[\"CUDA_VISIBLE_DEVICES\"]= \"7\""
   ]
  },
  {
   "cell_type": "code",
   "execution_count": 2,
   "metadata": {},
   "outputs": [],
   "source": [
    "def scene_folder_list(catagory, pathrow_list, data_source_folder='/workspace/_libs/dl_library'):\n",
    "    \"\"\"\n",
    "This function is designed to return the path of chips folders the user requests\n",
    "    :param catagoryr: the catagory of landcover. We have four catagories: Mangrove, Water, Wetland, and Pond\n",
    "    :param pathrow_list: a list of pathrow IDs.eg: ['128051','011060']\n",
    "    :param data_source_folder: the data source folder of chips. On the blade, it is the default path. On Sandy, it should be r'//sandy.local/projects/Moore_Automation/DL_Training_Library'\n",
    "    :return: the list of paths of chips folders.\n",
    "    \"\"\"\n",
    "    source_folder = os.path.join(data_source_folder,catagory)\n",
    "    res_folder_list = []\n",
    "    total_num = len(pathrow_list)\n",
    "    success_num = 0\n",
    "    for pathrow in pathrow_list:\n",
    "        for folder in os.listdir(source_folder):\n",
    "            if folder.endswith(pathrow):\n",
    "                res_folder_list.append(os.path.join(source_folder,folder))\n",
    "                success_num+=1\n",
    "    print(str(success_num),'scenes exist for',str(total_num),'required scenes')\n",
    "    return res_folder_list\n",
    "\n",
    "def read_scenes(scene_folder_list):\n",
    "    \"\"\"\n",
    "This function is to read bands and label from a list of scene folder paths. Without random order.\n",
    "    :param scene_folder_list: a list of chip folder paths\n",
    "    :return: numpy arrays of bands and the label\n",
    "    \"\"\"\n",
    "    for i in range(len(scene_folder_list)):\n",
    "        if(i==0):\n",
    "            folder = scene_folder_list[i]\n",
    "            res_bands, res_label = read_scene_band_label(folder)\n",
    "        else:\n",
    "            folder = scene_folder_list[i]\n",
    "            scene_bands, scene_label = read_scene_band_label(folder)\n",
    "            \n",
    "            (folder)\n",
    "            res_bands = np.append(res_bands, scene_bands, axis=0)\n",
    "            res_label = np.append(res_label, scene_label, axis=0)\n",
    "    return res_bands, res_label\n",
    "\n",
    "\n",
    "def read_scene_band_label(scene_folder):\n",
    "    \"\"\"\n",
    "This function is to read bands and label from the scene folder\n",
    "    :param scene_folder: the folder path of a scene\n",
    "    :return: numpy arrays of bands and the label\n",
    "    \"\"\"\n",
    "    # empty list to save the band and label\n",
    "    band_array = []\n",
    "    label_array = []\n",
    "    # get the band and label folder\n",
    "    for folder in os.listdir(scene_folder):\n",
    "        if(folder.endswith('bands')):\n",
    "            scene_band_folder = os.path.join(scene_folder,folder)\n",
    "        if(folder.endswith('label')):\n",
    "            scene_label_folder = os.path.join(scene_folder,folder)\n",
    "    # save each band chips to the list\n",
    "    band_list = os.listdir(scene_band_folder)\n",
    "    label_list = os.listdir(scene_label_folder)\n",
    "    band_list.sort()\n",
    "    label_list.sort()\n",
    "    for i in band_list:\n",
    "        file = gdal.Open(os.path.join(scene_band_folder,i))\n",
    "        res_array = np.zeros((256, 256, 6))\n",
    "        for num in range(6):\n",
    "            array = np.array(file.GetRasterBand(num+1).ReadAsArray())\n",
    "            res_array[:,:,num] = array\n",
    "        band_array.append(res_array)\n",
    "        del file\n",
    "    # save each label chip to the list\n",
    "    for i in label_list:\n",
    "        file = gdal.Open(os.path.join(scene_label_folder,i))\n",
    "        array = np.array(file.GetRasterBand(1).ReadAsArray())\n",
    "        label_array.append(array)\n",
    "        del file\n",
    "    return np.array(band_array), np.array(label_array)"
   ]
  },
  {
   "cell_type": "code",
   "execution_count": 3,
   "metadata": {
    "pycharm": {
     "name": "#%%\n"
    }
   },
   "outputs": [],
   "source": [
    "#from tool.clarktools import read_scenes\n",
    "import random\n",
    "import numpy as np\n",
    "import os\n",
    "from sklearn.model_selection import train_test_split\n",
    "type_list = [ 'ecuador extensive', 'intensive', 'long lot extensive', 'smallholder extensive AP']\n",
    "source_folder = '/workspace/_libs/dl_library'\n",
    "x_train=[]\n",
    "y_train=[]\n",
    "x_val=[]\n",
    "y_val=[]\n",
    "for i in os.listdir(source_folder):\n",
    "    if(i in type_list):\n",
    "        bands, label = read_scenes([os.path.join(source_folder, i)])\n",
    "        type_size = bands.shape[0]\n",
    "        random_list = random.sample(range(type_size), 300)\n",
    "        sample_bands = bands[:,:,:,:]\n",
    "        sample_label = label[:,:,:]\n",
    "        if(i=='absent'):\n",
    "            sample_bands = bands[random_list,:,:,:]\n",
    "            sample_label = label[random_list,:,:]\n",
    "        x_train_type, x_val_type, y_train_type, y_val_type = train_test_split(sample_bands, sample_label, test_size=0.2)\n",
    "        x_train.append(x_train_type)\n",
    "        x_val.append(x_val_type)\n",
    "        y_train.append(y_train_type)\n",
    "        y_val.append(y_val_type)\n",
    "x_train = np.concatenate(x_train)\n",
    "y_train = np.concatenate(y_train)\n",
    "x_val = np.concatenate(x_val)\n",
    "y_val = np.concatenate(y_val)\n",
    "np.random.seed(42)\n",
    "np.random.shuffle(x_train)\n",
    "np.random.seed(42)\n",
    "np.random.shuffle(y_train)\n",
    "np.random.seed(42)\n",
    "np.random.shuffle(x_val)\n",
    "np.random.seed(42)\n",
    "np.random.shuffle(y_val)"
   ]
  },
  {
   "cell_type": "code",
   "execution_count": 4,
   "metadata": {
    "pycharm": {
     "name": "#%%\n"
    }
   },
   "outputs": [],
   "source": [
    "from sklearn.utils import shuffle\n",
    "import random\n",
    "def data_generator(x, y, batch_size, shuffle_data=True):\n",
    "    num_data = len(x)\n",
    "    while True:\n",
    "        if(shuffle_data):\n",
    "            x, y = shuffle(x, y)\n",
    "        # Get index to start each batch: [0, batch_size, 2*batch_size, ..., max multiple of batch_size <= num_samples]\n",
    "        for offset in range(0, num_data, batch_size):\n",
    "            # Get the samples you'll use in this batch\n",
    "            x_sample = x[offset:offset+batch_size]\n",
    "            y_sample = y[offset:offset+batch_size]\n",
    "            # Initialise X_train and y_train arrays for this batch\n",
    "            x_train = []\n",
    "            y_train = []\n",
    "            for i in range(len(x_sample)):\n",
    "                img = x_sample[i]\n",
    "                label = y_sample[i]\n",
    "                ## preprocess images\n",
    "                ## random rotate\n",
    "                random_idx=random.randint(0, 3)\n",
    "                img = np.rot90(img,random_idx)\n",
    "                label = np.rot90(label,random_idx)\n",
    "                ## random flip\n",
    "                h_flip = random.choice([True, False])\n",
    "                v_flip = random.choice([True, False])\n",
    "                if(h_flip):\n",
    "                    img = np.fliplr(img)\n",
    "                    label = np.fliplr(label)\n",
    "                if(v_flip):\n",
    "                    img = np.flipud(img)\n",
    "                    label = np.flipud(label)\n",
    "\n",
    "                # Add example to arrays\n",
    "                x_train.append(img)\n",
    "                y_train.append(label)\n",
    "            # Make sure they're numpy arrays (as opposed to lists)\n",
    "            x_train = np.array(x_train)\n",
    "            y_train = np.array(y_train)\n",
    "\n",
    "            # The generator-y part: yield the next training batch\n",
    "            yield x_train, y_train"
   ]
  },
  {
   "cell_type": "code",
   "execution_count": 5,
   "metadata": {
    "pycharm": {
     "name": "#%%\n"
    }
   },
   "outputs": [],
   "source": [
    "y_train = np.expand_dims(y_train, axis = -1)\n",
    "y_val = np.expand_dims(y_val, axis = -1)"
   ]
  },
  {
   "cell_type": "code",
   "execution_count": 6,
   "metadata": {
    "pycharm": {
     "name": "#%%\n"
    }
   },
   "outputs": [],
   "source": [
    "train_gen = data_generator(x_train,y_train,16)\n",
    "val_gen = data_generator(x_val,y_val,16)"
   ]
  },
  {
   "cell_type": "code",
   "execution_count": 7,
   "metadata": {
    "pycharm": {
     "name": "#%%\n"
    }
   },
   "outputs": [],
   "source": [
    "from tensorflow.keras.layers import Input, Activation, MaxPooling2D, Conv2D, Conv2DTranspose, concatenate, Add\n",
    "from tensorflow.keras.models import Model\n",
    "from tensorflow.keras.layers.experimental import SyncBatchNormalization\n",
    "\n",
    "def binary_unet(input_height, input_width, bandNum):\n",
    "    inputs = Input((input_height,input_width, bandNum))\n",
    "    # Block one\n",
    "    # (256, 256, numBands) -> (256, 256, 64)\n",
    "    conv1 = SyncBatchNormalization()(Conv2D(64, 3, padding='same', name='Conv1_1', kernel_initializer='he_normal')(inputs))\n",
    "    conv1 = Activation('relu')(conv1)\n",
    "    conv1 = SyncBatchNormalization()(Conv2D(64, 3, padding='same', name='Conv1_2', kernel_initializer='he_normal')(conv1))\n",
    "    conv1 = Activation('relu')(conv1)\n",
    "    # (256, 256, 64) -> (128, 128, 64)\n",
    "    pool1 = MaxPooling2D(pool_size=(2, 2))(conv1)\n",
    "\n",
    "    # Block Two\n",
    "    # (128, 128, 64) -> (128, 128, 128)\n",
    "    conv2 = SyncBatchNormalization()(Conv2D(128, 3, padding='same', name='Conv2_1', kernel_initializer='he_normal')(pool1))\n",
    "    conv2 = Activation('relu')(conv2)\n",
    "    conv2 = SyncBatchNormalization()(Conv2D(128, 3, padding='same', name='Conv2_2', kernel_initializer='he_normal')(conv2))\n",
    "    conv2 = Activation('relu')(conv2)\n",
    "    # (128, 128, 128) -> (64, 64, 128)\n",
    "    pool2 = MaxPooling2D(pool_size=(2, 2))(conv2)\n",
    "\n",
    "    # Block three\n",
    "    # (64, 64, 128) -> (64, 64, 256)\n",
    "    conv3 = SyncBatchNormalization()(Conv2D(256, 3, padding='same', name='Conv3_1', kernel_initializer='he_normal')(pool2))\n",
    "    conv3 = Activation('relu')(conv3)\n",
    "    conv3 = SyncBatchNormalization()(Conv2D(256, 3, padding='same', name='Conv3_2', kernel_initializer='he_normal')(conv3))\n",
    "    conv3 = Activation('relu')(conv3)\n",
    "    # (64, 64, 256) -> ( 32, 32, 256)\n",
    "    pool3 = MaxPooling2D(pool_size=(2, 2))(conv3)\n",
    "\n",
    "    # Block four\n",
    "    # (32, 32, 256) -> (32, 32, 512)\n",
    "    conv4 = SyncBatchNormalization()(Conv2D(512, 3, padding='same', name='Conv4_1', kernel_initializer='he_normal')(pool3))\n",
    "    conv4 = Activation('relu')(conv4)\n",
    "    conv4 = SyncBatchNormalization()(Conv2D(512, 3, padding='same', name='Conv4_2', kernel_initializer='he_normal')(conv4))\n",
    "    conv4 = Activation('relu')(conv4)\n",
    "    # (32, 32, 512) -> (16, 16, 512)\n",
    "    pool4 = MaxPooling2D(pool_size=(2, 2))(conv4)\n",
    "\n",
    "    # Block five\n",
    "    # (16, 16, 512) -> (16, 16, 1024)\n",
    "    conv5 = SyncBatchNormalization()(Conv2D(1024, 3, padding='same', name='Conv5_1', kernel_initializer='he_normal')(pool4))\n",
    "    conv5 = Activation('relu')(conv5)\n",
    "    conv5 = SyncBatchNormalization()(Conv2D(1024, 3, padding='same', name='Conv5_2', kernel_initializer='he_normal')(conv5))\n",
    "    conv5 = Activation('relu')(conv5)\n",
    "\n",
    "    ## Decoder\n",
    "    # Block six\n",
    "    # (16, 16, 1024) -> (32, 32, 1024) -> (32, 32, 512)\n",
    "    up6 = Conv2DTranspose(512, (4, 4), strides=(2, 2), name = 'Conv6_1', padding='same')(conv5)\n",
    "    # (32, 32, 512) -> (32, 32, 1024)\n",
    "    merge6 = concatenate([conv4,up6],axis = 3)\n",
    "    # (32, 32, 1024) -> (32, 32, 512)\n",
    "    conv6 = (Conv2D(512, 3,  padding = 'same', name = 'Conv6_2', kernel_initializer = 'he_normal')(merge6))\n",
    "    conv6 = Activation('relu')(conv6)\n",
    "    conv6 = (Conv2D(512, 3, padding = 'same', name = 'Conv6_3', kernel_initializer = 'he_normal')(conv6))\n",
    "    conv6 = Activation('relu')(conv6)\n",
    "\n",
    "    # Block seven\n",
    "    # (32, 32, 512) -> (64, 64, 512) -> (64, 64, 256)\n",
    "    up7 = Conv2DTranspose(256, (4, 4), strides=(2, 2), name = 'Conv7_1', padding='same')(conv6)\n",
    "    # (64, 64, 256) -> (64, 64, 512)\n",
    "    merge7 = concatenate([conv3,up7],axis = 3)\n",
    "    # (64, 64, 512) -> (64, 64, 256)\n",
    "    conv7 = (Conv2D(256, 3,  padding = 'same', name = 'Conv7_2', kernel_initializer = 'he_normal')(merge7))\n",
    "    conv7 = Activation('relu')(conv7)\n",
    "    conv7 = (Conv2D(256, 3, padding = 'same', name = 'Conv7_3', kernel_initializer = 'he_normal')(conv7))\n",
    "    conv7 = Activation('relu')(conv7)\n",
    "\n",
    "    # Block eight\n",
    "    # (64, 64, 256) -> (128, 128, 256) -> (128, 128, 128)\n",
    "    up8 = Conv2DTranspose(128, (4, 4), strides=(2, 2), name = 'Conv8_1', padding='same')(conv7)\n",
    "    # (128, 128, 128) -> (128, 128, 256)\n",
    "    merge8 = concatenate([conv2,up8],axis = 3)\n",
    "    # (128, 128, 256) -> (128, 128, 128)\n",
    "    conv8 = (Conv2D(128, 3, padding = 'same', name = 'Conv8_2', kernel_initializer = 'he_normal')(merge8))\n",
    "    conv8 = Activation('relu')(conv8)\n",
    "    conv8 = (Conv2D(128, 3,  padding = 'same', name = 'Conv8_3', kernel_initializer = 'he_normal')(conv8))\n",
    "    conv8 = Activation('relu')(conv8)\n",
    "\n",
    "    # Block nine\n",
    "    # (128, 128, 128) -> (256, 256, 128) -> (256, 256, 64)\n",
    "    up9 = Conv2DTranspose(64, (4, 4), strides=(2, 2), name = 'Conv9_1', padding='same')(conv8)\n",
    "    # (256, 256, 64) -> (256, 256, 128)\n",
    "    merge9 = concatenate([conv1,up9],axis = 3)\n",
    "    # (256, 256, 128) -> (256, 256, 64)\n",
    "    conv9 = (Conv2D(64, 3, padding = 'same',name = 'Conv9_2', kernel_initializer = 'he_normal')(merge9))\n",
    "    conv9 = Activation('relu')(conv9)\n",
    "    conv9 = (Conv2D(64, 3, padding = 'same', name = 'Conv9_3', kernel_initializer = 'he_normal')(conv9))\n",
    "    conv9 = Activation('relu')(conv9)\n",
    "\n",
    "    # (256, 256, 64) -> (256, 256, 64)\n",
    "    conv10 = Conv2D(1, 1, activation='sigmoid')(conv9)\n",
    "    model = Model(inputs, outputs = conv10)\n",
    "\n",
    "    return model\n"
   ]
  },
  {
   "cell_type": "code",
   "execution_count": 8,
   "metadata": {},
   "outputs": [
    {
     "name": "stderr",
     "output_type": "stream",
     "text": [
      "Using TensorFlow backend.\n",
      "2022-08-20 04:13:12.105406: I tensorflow/stream_executor/platform/default/dso_loader.cc:44] Successfully opened dynamic library libcuda.so.1\n",
      "2022-08-20 04:13:12.194307: I tensorflow/core/common_runtime/gpu/gpu_device.cc:1561] Found device 0 with properties: \n",
      "pciBusID: 0000:41:00.0 name: Quadro RTX 5000 computeCapability: 7.5\n",
      "coreClock: 1.815GHz coreCount: 48 deviceMemorySize: 15.75GiB deviceMemoryBandwidth: 417.29GiB/s\n",
      "2022-08-20 04:13:12.194523: I tensorflow/stream_executor/platform/default/dso_loader.cc:44] Successfully opened dynamic library libcudart.so.10.1\n",
      "2022-08-20 04:13:12.196485: I tensorflow/stream_executor/platform/default/dso_loader.cc:44] Successfully opened dynamic library libcublas.so.10\n",
      "2022-08-20 04:13:12.198204: I tensorflow/stream_executor/platform/default/dso_loader.cc:44] Successfully opened dynamic library libcufft.so.10\n",
      "2022-08-20 04:13:12.198511: I tensorflow/stream_executor/platform/default/dso_loader.cc:44] Successfully opened dynamic library libcurand.so.10\n",
      "2022-08-20 04:13:12.200316: I tensorflow/stream_executor/platform/default/dso_loader.cc:44] Successfully opened dynamic library libcusolver.so.10\n",
      "2022-08-20 04:13:12.201179: I tensorflow/stream_executor/platform/default/dso_loader.cc:44] Successfully opened dynamic library libcusparse.so.10\n",
      "2022-08-20 04:13:12.204808: I tensorflow/stream_executor/platform/default/dso_loader.cc:44] Successfully opened dynamic library libcudnn.so.7\n",
      "2022-08-20 04:13:12.206146: I tensorflow/core/common_runtime/gpu/gpu_device.cc:1703] Adding visible gpu devices: 0\n",
      "2022-08-20 04:13:12.206913: I tensorflow/core/platform/cpu_feature_guard.cc:143] Your CPU supports instructions that this TensorFlow binary was not compiled to use: SSE4.1 SSE4.2 AVX AVX2 AVX512F FMA\n",
      "2022-08-20 04:13:12.228166: I tensorflow/core/platform/profile_utils/cpu_utils.cc:102] CPU Frequency: 2200000000 Hz\n",
      "2022-08-20 04:13:12.233856: I tensorflow/compiler/xla/service/service.cc:168] XLA service 0x55d24aa999b0 initialized for platform Host (this does not guarantee that XLA will be used). Devices:\n",
      "2022-08-20 04:13:12.233894: I tensorflow/compiler/xla/service/service.cc:176]   StreamExecutor device (0): Host, Default Version\n",
      "2022-08-20 04:13:12.341284: I tensorflow/compiler/xla/service/service.cc:168] XLA service 0x55d24aa371e0 initialized for platform CUDA (this does not guarantee that XLA will be used). Devices:\n",
      "2022-08-20 04:13:12.341330: I tensorflow/compiler/xla/service/service.cc:176]   StreamExecutor device (0): Quadro RTX 5000, Compute Capability 7.5\n",
      "2022-08-20 04:13:12.342683: I tensorflow/core/common_runtime/gpu/gpu_device.cc:1561] Found device 0 with properties: \n",
      "pciBusID: 0000:41:00.0 name: Quadro RTX 5000 computeCapability: 7.5\n",
      "coreClock: 1.815GHz coreCount: 48 deviceMemorySize: 15.75GiB deviceMemoryBandwidth: 417.29GiB/s\n",
      "2022-08-20 04:13:12.342790: I tensorflow/stream_executor/platform/default/dso_loader.cc:44] Successfully opened dynamic library libcudart.so.10.1\n",
      "2022-08-20 04:13:12.342825: I tensorflow/stream_executor/platform/default/dso_loader.cc:44] Successfully opened dynamic library libcublas.so.10\n",
      "2022-08-20 04:13:12.342857: I tensorflow/stream_executor/platform/default/dso_loader.cc:44] Successfully opened dynamic library libcufft.so.10\n",
      "2022-08-20 04:13:12.342888: I tensorflow/stream_executor/platform/default/dso_loader.cc:44] Successfully opened dynamic library libcurand.so.10\n",
      "2022-08-20 04:13:12.342919: I tensorflow/stream_executor/platform/default/dso_loader.cc:44] Successfully opened dynamic library libcusolver.so.10\n",
      "2022-08-20 04:13:12.342950: I tensorflow/stream_executor/platform/default/dso_loader.cc:44] Successfully opened dynamic library libcusparse.so.10\n",
      "2022-08-20 04:13:12.342980: I tensorflow/stream_executor/platform/default/dso_loader.cc:44] Successfully opened dynamic library libcudnn.so.7\n",
      "2022-08-20 04:13:12.344987: I tensorflow/core/common_runtime/gpu/gpu_device.cc:1703] Adding visible gpu devices: 0\n",
      "2022-08-20 04:13:12.345072: I tensorflow/stream_executor/platform/default/dso_loader.cc:44] Successfully opened dynamic library libcudart.so.10.1\n",
      "2022-08-20 04:13:12.346344: I tensorflow/core/common_runtime/gpu/gpu_device.cc:1102] Device interconnect StreamExecutor with strength 1 edge matrix:\n",
      "2022-08-20 04:13:12.346364: I tensorflow/core/common_runtime/gpu/gpu_device.cc:1108]      0 \n",
      "2022-08-20 04:13:12.346378: I tensorflow/core/common_runtime/gpu/gpu_device.cc:1121] 0:   N \n",
      "2022-08-20 04:13:12.348480: I tensorflow/core/common_runtime/gpu/gpu_device.cc:1247] Created TensorFlow device (/job:localhost/replica:0/task:0/device:GPU:0 with 15043 MB memory) -> physical GPU (device: 0, name: Quadro RTX 5000, pci bus id: 0000:41:00.0, compute capability: 7.5)\n"
     ]
    }
   ],
   "source": [
    "from keras.models import load_model\n",
    "model_1 = binary_unet(256,256,6)\n",
    "#autoencoder_model = load_model('/workspace/_libs/pre_trained_RS_autoencoder.h5')\n",
    "#for l1,l2 in zip(autoencoder_model.layers[:35], model_1.layers[:35]):\n",
    "#    l2.set_weights(l1.get_weights())"
   ]
  },
  {
   "cell_type": "code",
   "execution_count": 13,
   "metadata": {},
   "outputs": [
    {
     "name": "stdout",
     "output_type": "stream",
     "text": [
      "WARNING:tensorflow:`period` argument is deprecated. Please use `save_freq` to specify the frequency in number of batches seen.\n"
     ]
    }
   ],
   "source": [
    "from tensorflow.keras.callbacks import TensorBoard, ModelCheckpoint,  CSVLogger, EarlyStopping\n",
    "import datetime\n",
    "project_folder = '/home/vishal/DL_Results/unet_datagen'\n",
    "\n",
    "log_dir=\"/home/vishal/logs/fit/\" + datetime.datetime.now().strftime(\"%Y%m%d-%H%M%S\")\n",
    "#tensorboard_callback = TensorBoard(log_dir=log_dir, histogram_freq=1)\n",
    "checkpoint_path = os.path.join(project_folder,'saved_models','weight_improvements_{epoch:02d}_{val_accuracy:.2f}.hdf5')\n",
    "if(not os.path.isdir(os.path.join(project_folder,'saved_models'))):\n",
    "    os.mkdir(os.path.join(project_folder,'saved_models'))\n",
    "# checkpoint = ModelCheckpoint(checkpoint_path, monitor = 'val_iou_score', verbose = 1,save_best_only=True,mode='max')\n",
    "checkpoint = ModelCheckpoint(checkpoint_path, period=100)\n",
    "early_stop = EarlyStopping(monitor = 'val_loss', patience = 3, verbose=1)\n",
    "log_csv = CSVLogger(os.path.join(project_folder,'my_logs.csv'),separator=',',append=False)\n",
    "callback_list = [ checkpoint,log_csv]"
   ]
  },
  {
   "cell_type": "code",
   "execution_count": 14,
   "metadata": {
    "pycharm": {
     "name": "#%%\n"
    }
   },
   "outputs": [
    {
     "name": "stdout",
     "output_type": "stream",
     "text": [
      "Segmentation Models: using `keras` framework.\n",
      "WARNING:tensorflow:From /tmp/ipykernel_195814/1521974816.py:13: Model.fit_generator (from tensorflow.python.keras.engine.training) is deprecated and will be removed in a future version.\n",
      "Instructions for updating:\n",
      "Please use Model.fit, which supports generators.\n",
      "Epoch 1/50\n"
     ]
    },
    {
     "name": "stderr",
     "output_type": "stream",
     "text": [
      "2022-08-20 04:21:31.812758: I tensorflow/stream_executor/platform/default/dso_loader.cc:44] Successfully opened dynamic library libcudnn.so.7\n",
      "2022-08-20 04:21:33.315895: I tensorflow/stream_executor/platform/default/dso_loader.cc:44] Successfully opened dynamic library libcublas.so.10\n"
     ]
    },
    {
     "name": "stdout",
     "output_type": "stream",
     "text": [
      "285/285 [==============================] - 179s 628ms/step - loss: 0.0334 - accuracy: 0.8437 - val_loss: 0.0448 - val_accuracy: 0.6932\n",
      "Epoch 2/50\n",
      "285/285 [==============================] - 182s 639ms/step - loss: 0.0246 - accuracy: 0.8892 - val_loss: 0.0234 - val_accuracy: 0.8992\n",
      "Epoch 3/50\n",
      "285/285 [==============================] - 184s 647ms/step - loss: 0.0235 - accuracy: 0.8951 - val_loss: 0.0223 - val_accuracy: 0.8806\n",
      "Epoch 4/50\n",
      "285/285 [==============================] - 184s 647ms/step - loss: 0.0211 - accuracy: 0.9056 - val_loss: 0.0228 - val_accuracy: 0.8986\n",
      "Epoch 5/50\n",
      "285/285 [==============================] - 184s 647ms/step - loss: 0.0202 - accuracy: 0.9104 - val_loss: 0.0175 - val_accuracy: 0.9287\n",
      "Epoch 6/50\n",
      "285/285 [==============================] - 184s 645ms/step - loss: 0.0189 - accuracy: 0.9164 - val_loss: 0.0175 - val_accuracy: 0.9311\n",
      "Epoch 7/50\n",
      "285/285 [==============================] - 185s 649ms/step - loss: 0.0192 - accuracy: 0.9144 - val_loss: 0.0176 - val_accuracy: 0.9327\n",
      "Epoch 8/50\n",
      "285/285 [==============================] - 184s 646ms/step - loss: 0.0183 - accuracy: 0.9191 - val_loss: 0.0163 - val_accuracy: 0.9303\n",
      "Epoch 9/50\n",
      "285/285 [==============================] - 185s 648ms/step - loss: 0.0176 - accuracy: 0.9216 - val_loss: 0.0169 - val_accuracy: 0.9347\n",
      "Epoch 10/50\n",
      "285/285 [==============================] - 185s 647ms/step - loss: 0.0175 - accuracy: 0.9217 - val_loss: 0.0164 - val_accuracy: 0.9263\n",
      "Epoch 11/50\n",
      "285/285 [==============================] - 184s 645ms/step - loss: 0.0170 - accuracy: 0.9244 - val_loss: 0.0165 - val_accuracy: 0.9390\n",
      "Epoch 12/50\n",
      "285/285 [==============================] - 184s 646ms/step - loss: 0.0167 - accuracy: 0.9258 - val_loss: 0.0170 - val_accuracy: 0.9211\n",
      "Epoch 13/50\n",
      "285/285 [==============================] - 184s 647ms/step - loss: 0.0168 - accuracy: 0.9250 - val_loss: 0.0152 - val_accuracy: 0.9312\n",
      "Epoch 14/50\n",
      "285/285 [==============================] - 184s 646ms/step - loss: 0.0161 - accuracy: 0.9283 - val_loss: 0.0154 - val_accuracy: 0.9370\n",
      "Epoch 15/50\n",
      "285/285 [==============================] - 184s 646ms/step - loss: 0.0162 - accuracy: 0.9277 - val_loss: 0.0152 - val_accuracy: 0.9307\n",
      "Epoch 16/50\n",
      "285/285 [==============================] - 184s 645ms/step - loss: 0.0161 - accuracy: 0.9283 - val_loss: 0.0151 - val_accuracy: 0.9348\n",
      "Epoch 17/50\n",
      "285/285 [==============================] - 184s 644ms/step - loss: 0.0155 - accuracy: 0.9311 - val_loss: 0.0152 - val_accuracy: 0.9299\n",
      "Epoch 18/50\n",
      "285/285 [==============================] - 184s 647ms/step - loss: 0.0161 - accuracy: 0.9281 - val_loss: 0.0153 - val_accuracy: 0.9383\n",
      "Epoch 19/50\n",
      "285/285 [==============================] - 184s 647ms/step - loss: 0.0155 - accuracy: 0.9315 - val_loss: 0.0152 - val_accuracy: 0.9407\n",
      "Epoch 20/50\n",
      "285/285 [==============================] - 184s 646ms/step - loss: 0.0153 - accuracy: 0.9323 - val_loss: 0.0148 - val_accuracy: 0.9287\n",
      "Epoch 21/50\n",
      "285/285 [==============================] - 184s 646ms/step - loss: 0.0151 - accuracy: 0.9326 - val_loss: 0.0144 - val_accuracy: 0.9408\n",
      "Epoch 22/50\n",
      "285/285 [==============================] - 183s 643ms/step - loss: 0.0150 - accuracy: 0.9331 - val_loss: 0.0148 - val_accuracy: 0.9356\n",
      "Epoch 23/50\n",
      "285/285 [==============================] - 184s 646ms/step - loss: 0.0151 - accuracy: 0.9329 - val_loss: 0.0142 - val_accuracy: 0.9347\n",
      "Epoch 24/50\n",
      "285/285 [==============================] - 184s 647ms/step - loss: 0.0147 - accuracy: 0.9349 - val_loss: 0.0141 - val_accuracy: 0.9356\n",
      "Epoch 25/50\n",
      "285/285 [==============================] - 184s 647ms/step - loss: 0.0149 - accuracy: 0.9333 - val_loss: 0.0140 - val_accuracy: 0.9394\n",
      "Epoch 26/50\n",
      "285/285 [==============================] - 184s 645ms/step - loss: 0.0145 - accuracy: 0.9354 - val_loss: 0.0140 - val_accuracy: 0.9414\n",
      "Epoch 27/50\n",
      "285/285 [==============================] - 184s 645ms/step - loss: 0.0143 - accuracy: 0.9359 - val_loss: 0.0140 - val_accuracy: 0.9441\n",
      "Epoch 28/50\n",
      "285/285 [==============================] - 184s 646ms/step - loss: 0.0153 - accuracy: 0.9323 - val_loss: 0.0153 - val_accuracy: 0.9311\n",
      "Epoch 29/50\n",
      "285/285 [==============================] - 184s 646ms/step - loss: 0.0148 - accuracy: 0.9345 - val_loss: 0.0138 - val_accuracy: 0.9415\n",
      "Epoch 30/50\n",
      "285/285 [==============================] - 184s 647ms/step - loss: 0.0141 - accuracy: 0.9372 - val_loss: 0.0135 - val_accuracy: 0.9436\n",
      "Epoch 31/50\n",
      "285/285 [==============================] - 185s 647ms/step - loss: 0.0141 - accuracy: 0.9371 - val_loss: 0.0137 - val_accuracy: 0.9421\n",
      "Epoch 32/50\n",
      "285/285 [==============================] - 184s 646ms/step - loss: 0.0136 - accuracy: 0.9395 - val_loss: 0.0136 - val_accuracy: 0.9378\n",
      "Epoch 33/50\n",
      "285/285 [==============================] - 184s 646ms/step - loss: 0.0138 - accuracy: 0.9387 - val_loss: 0.0135 - val_accuracy: 0.9401\n",
      "Epoch 34/50\n",
      "285/285 [==============================] - 184s 646ms/step - loss: 0.0137 - accuracy: 0.9390 - val_loss: 0.0133 - val_accuracy: 0.9438\n",
      "Epoch 35/50\n",
      "285/285 [==============================] - 184s 647ms/step - loss: 0.0133 - accuracy: 0.9408 - val_loss: 0.0133 - val_accuracy: 0.9353\n",
      "Epoch 36/50\n",
      "285/285 [==============================] - 184s 645ms/step - loss: 0.0135 - accuracy: 0.9396 - val_loss: 0.0128 - val_accuracy: 0.9426\n",
      "Epoch 37/50\n",
      "285/285 [==============================] - 184s 646ms/step - loss: 0.0134 - accuracy: 0.9402 - val_loss: 0.0134 - val_accuracy: 0.9344\n",
      "Epoch 38/50\n",
      "285/285 [==============================] - 184s 645ms/step - loss: 0.0135 - accuracy: 0.9399 - val_loss: 0.0132 - val_accuracy: 0.9321\n",
      "Epoch 39/50\n",
      "285/285 [==============================] - 184s 647ms/step - loss: 0.0133 - accuracy: 0.9408 - val_loss: 0.0140 - val_accuracy: 0.9462\n",
      "Epoch 40/50\n",
      "285/285 [==============================] - 184s 646ms/step - loss: 0.0133 - accuracy: 0.9402 - val_loss: 0.0127 - val_accuracy: 0.9475\n",
      "Epoch 41/50\n",
      "285/285 [==============================] - 184s 646ms/step - loss: 0.0147 - accuracy: 0.9355 - val_loss: 0.0160 - val_accuracy: 0.9320\n",
      "Epoch 42/50\n",
      "285/285 [==============================] - 184s 646ms/step - loss: 0.0146 - accuracy: 0.9359 - val_loss: 0.0129 - val_accuracy: 0.9451\n",
      "Epoch 43/50\n",
      "285/285 [==============================] - 184s 646ms/step - loss: 0.0130 - accuracy: 0.9421 - val_loss: 0.0128 - val_accuracy: 0.9422\n",
      "Epoch 44/50\n",
      "285/285 [==============================] - 184s 646ms/step - loss: 0.0127 - accuracy: 0.9432 - val_loss: 0.0126 - val_accuracy: 0.9413\n",
      "Epoch 45/50\n",
      "285/285 [==============================] - 184s 645ms/step - loss: 0.0126 - accuracy: 0.9435 - val_loss: 0.0125 - val_accuracy: 0.9490\n",
      "Epoch 46/50\n",
      "285/285 [==============================] - 184s 646ms/step - loss: 0.0131 - accuracy: 0.9413 - val_loss: 0.0127 - val_accuracy: 0.9378\n",
      "Epoch 47/50\n",
      "285/285 [==============================] - 184s 646ms/step - loss: 0.0128 - accuracy: 0.9426 - val_loss: 0.0129 - val_accuracy: 0.9445\n",
      "Epoch 48/50\n",
      "285/285 [==============================] - 184s 645ms/step - loss: 0.0133 - accuracy: 0.9400 - val_loss: 0.0126 - val_accuracy: 0.9464\n",
      "Epoch 49/50\n",
      "285/285 [==============================] - 183s 643ms/step - loss: 0.0124 - accuracy: 0.9445 - val_loss: 0.0123 - val_accuracy: 0.9444\n",
      "Epoch 50/50\n",
      "285/285 [==============================] - 184s 645ms/step - loss: 0.0123 - accuracy: 0.9445 - val_loss: 0.0122 - val_accuracy: 0.9491\n"
     ]
    }
   ],
   "source": [
    "import segmentation_models\n",
    "from tensorflow.keras import optimizers\n",
    "loss = segmentation_models.losses.BinaryFocalLoss()\n",
    "sgd = optimizers.SGD(lr=1E-4, decay=5**(-4), momentum=0.9, nesterov=True)\n",
    "adam_opt = optimizers.Adam(lr=1E-4)\n",
    "model_1.compile(loss=loss, # 'weighted_categorical_crossentropy'\n",
    "              optimizer = adam_opt,\n",
    "              metrics=['accuracy'])\n",
    "hist1 = model_1.fit_generator(train_gen,\n",
    "                        steps_per_epoch=len(x_train) // 16,\n",
    "                        validation_data=val_gen,\n",
    "                        validation_steps=len(x_val)//16,\n",
    "                        epochs = 50, verbose=1, callbacks=callback_list)"
   ]
  },
  {
   "cell_type": "code",
   "execution_count": 16,
   "metadata": {
    "pycharm": {
     "name": "#%%\n"
    }
   },
   "outputs": [
    {
     "data": {
      "image/png": "[encoded data removed]",
      "text/plain": [
       "<Figure size 432x288 with 1 Axes>"
      ]
     },
     "metadata": {
      "needs_background": "light"
     },
     "output_type": "display_data"
    }
   ],
   "source": [
    "import matplotlib.pyplot as plt\n",
    "\n",
    "for key in ['loss', 'val_loss']:\n",
    "    plt.plot(hist1.history[key],label=key)\n",
    "plt.legend()\n",
    "plt.savefig(os.path.join(project_folder,'loss.png'))\n",
    "plt.show()"
   ]
  },
  {
   "cell_type": "code",
   "execution_count": 17,
   "metadata": {
    "pycharm": {
     "name": "#%%\n"
    }
   },
   "outputs": [
    {
     "data": {
      "image/png": "[encoded data removed]",
      "text/plain": [
       "<Figure size 432x288 with 1 Axes>"
      ]
     },
     "metadata": {
      "needs_background": "light"
     },
     "output_type": "display_data"
    }
   ],
   "source": [
    "for key in ['accuracy', 'val_accuracy']:\n",
    "    plt.plot(hist1.history[key],label=key)\n",
    "plt.legend()\n",
    "plt.savefig(os.path.join(project_folder,'accuracy.png'))\n",
    "plt.show()"
   ]
  },
  {
   "cell_type": "code",
   "execution_count": null,
   "metadata": {},
   "outputs": [],
   "source": []
  }
 ],
 "metadata": {
  "kernelspec": {
   "display_name": "Python 3 (ipykernel)",
   "language": "python",
   "name": "python3"
  },
  "language_info": {
   "codemirror_mode": {
    "name": "ipython",
    "version": 3
   },
   "file_extension": ".py",
   "mimetype": "text/x-python",
   "name": "python",
   "nbconvert_exporter": "python",
   "pygments_lexer": "ipython3",
   "version": "3.7.13"
  }
 },
 "nbformat": 4,
 "nbformat_minor": 4
}
