{
 "cells": [
  {
   "cell_type": "code",
   "execution_count": 46,
   "id": "8eae1e59-1ad0-4d88-ae5e-b4eb3a251d99",
   "metadata": {},
   "outputs": [
    {
     "name": "stdout",
     "output_type": "stream",
     "text": [
      "The tensorboard extension is already loaded. To reload it, use:\n",
      "  %reload_ext tensorboard\n"
     ]
    }
   ],
   "source": [
    "%load_ext tensorboard"
   ]
  },
  {
   "cell_type": "code",
   "execution_count": 47,
   "id": "9a88aaa9-ce12-42ff-9a0e-4a99851cdc8b",
   "metadata": {},
   "outputs": [
    {
     "data": {
      "text/plain": [
       "Reusing TensorBoard on port 6006 (pid 55862), started 3 days, 17:51:27 ago. (Use '!kill 55862' to kill it.)"
      ]
     },
     "metadata": {},
     "output_type": "display_data"
    },
    {
     "data": {
      "text/html": [
       "\n",
       "      <iframe id=\"tensorboard-frame-8b258b71c6df4cbe\" width=\"100%\" height=\"800\" frameborder=\"0\">\n",
       "      </iframe>\n",
       "      <script>\n",
       "        (function() {\n",
       "          const frame = document.getElementById(\"tensorboard-frame-8b258b71c6df4cbe\");\n",
       "          const url = new URL(\"/\", window.location);\n",
       "          const port = 6006;\n",
       "          if (port) {\n",
       "            url.port = port;\n",
       "          }\n",
       "          frame.src = url;\n",
       "        })();\n",
       "      </script>\n",
       "    "
      ],
      "text/plain": [
       "<IPython.core.display.HTML object>"
      ]
     },
     "metadata": {},
     "output_type": "display_data"
    }
   ],
   "source": [
    "%tensorboard --logdir=/home/vishal/cldl/logs"
   ]
  },
  {
   "cell_type": "code",
   "execution_count": 29,
   "id": "a957824a-a6b8-49f9-aba5-ec90e18c16d5",
   "metadata": {},
   "outputs": [],
   "source": [
    "import albumentations as A\n",
    "import cv2\n",
    "\n",
    "transform = A.Compose([\n",
    "    A.RandomCrop(width=50, height=50),\n",
    "    A.HorizontalFlip(p=0.5),\n",
    "    A.RandomBrightnessContrast(p=0.2),\n",
    "])"
   ]
  },
  {
   "cell_type": "code",
   "execution_count": null,
   "id": "1f88afb4-7403-4090-b35c-db2b1ba31549",
   "metadata": {},
   "outputs": [],
   "source": [
    "import numpy as np\n",
    "import matplotlib.pyplot as plt\n",
    "img = np.random.random((256,256,3))\n",
    "msk = np.random.random((256,256))"
   ]
  },
  {
   "cell_type": "code",
   "execution_count": 33,
   "id": "49192f0a-75b9-48a9-b866-64c48560f2c2",
   "metadata": {},
   "outputs": [
    {
     "data": {
      "text/plain": [
       "dtype('float64')"
      ]
     },
     "execution_count": 33,
     "metadata": {},
     "output_type": "execute_result"
    }
   ],
   "source": [
    "msk.dtype"
   ]
  },
  {
   "cell_type": "code",
   "execution_count": null,
   "id": "2a4a2701-e5b3-412f-ab9b-9383a8638d4d",
   "metadata": {},
   "outputs": [],
   "source": [
    "image = cv2.imread(\"/workspace/to/image.jpg\")\n",
    "image = cv2.cvtColor(image, cv2.COLOR_BGR2RGB)"
   ]
  },
  {
   "cell_type": "code",
   "execution_count": null,
   "id": "29b8af80-88d9-493f-b332-f04b70ea618d",
   "metadata": {},
   "outputs": [],
   "source": [
    "mask = cv2.imread(\"/path/to/mask.png\")\n"
   ]
  },
  {
   "cell_type": "code",
   "execution_count": 31,
   "id": "d4792f58-4784-4053-baca-975619a62407",
   "metadata": {},
   "outputs": [],
   "source": [
    "transformed = transform(image=img, mask=msk)\n",
    "transformed_image = transformed['image']\n",
    "transformed_mask = transformed['mask']"
   ]
  },
  {
   "cell_type": "code",
   "execution_count": 34,
   "id": "99e4236b-c77e-4450-b503-30a2f802a33b",
   "metadata": {},
   "outputs": [
    {
     "data": {
      "text/plain": [
       "dtype('float64')"
      ]
     },
     "execution_count": 34,
     "metadata": {},
     "output_type": "execute_result"
    }
   ],
   "source": [
    "transformed_image.dtype"
   ]
  },
  {
   "cell_type": "code",
   "execution_count": null,
   "id": "8adee7d6-9138-41bd-b14f-f7584b5e5626",
   "metadata": {},
   "outputs": [],
   "source": []
  }
 ],
 "metadata": {
  "kernelspec": {
   "display_name": "Python 3 (ipykernel)",
   "language": "python",
   "name": "python3"
  },
  "language_info": {
   "codemirror_mode": {
    "name": "ipython",
    "version": 3
   },
   "file_extension": ".py",
   "mimetype": "text/x-python",
   "name": "python",
   "nbconvert_exporter": "python",
   "pygments_lexer": "ipython3",
   "version": "3.7.13"
  }
 },
 "nbformat": 4,
 "nbformat_minor": 5
}
